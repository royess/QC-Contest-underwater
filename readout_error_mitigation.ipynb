{
 "cells": [
  {
   "cell_type": "code",
   "execution_count": 56,
   "metadata": {},
   "outputs": [],
   "source": [
    "import qiskit\n",
    "from qiskit.circuit import QuantumCircuit\n",
    "from qiskit.providers.aer.noise import NoiseModel\n",
    "from qiskit_aer import AerSimulator\n",
    "import numpy as np\n",
    "import pandas as pd\n",
    "from mitiq import Executor, MeasurementResult, Observable\n",
    "from cirq import DensityMatrixSimulator, depolarize\n",
    "from mitiq.interface import convert_to_mitiq\n",
    "import mitiq\n",
    "from mitiq import zne, benchmarks, pec\n",
    "from mitiq.pec.representations.depolarizing import represent_operations_in_circuit_with_local_depolarizing_noise\n",
    "\n",
    "import qiskit\n",
    "from qiskit.circuit import QuantumCircuit\n",
    "from qiskit.providers.aer.noise import NoiseModel\n",
    "from qiskit_aer import AerSimulator\n",
    "import numpy as np\n",
    "import pandas as pd\n",
    "from mitiq import Executor, MeasurementResult, Observable\n",
    "from cirq import DensityMatrixSimulator, depolarize\n",
    "from mitiq.interface import convert_to_mitiq\n",
    "import mitiq\n",
    "from mitiq import zne, benchmarks, pec\n",
    "from mitiq.pec.representations import find_optimal_representation\n",
    "from mitiq.pec.representations.depolarizing import represent_operations_in_circuit_with_local_depolarizing_noise\n",
    "from mitiq.pec.channels import kraus_to_super\n",
    "from qiskit.circuit.library import RZGate, SXGate, CXGate\n",
    "from qiskit.circuit.library.generalized_gates import PauliGate\n",
    "from qiskit.extensions import UnitaryGate\n",
    "import time\n",
    "import copy\n",
    "import pdb\n",
    "import numpy as np\n",
    "import matplotlib.pyplot as plt\n",
    "from qiskit import QuantumCircuit\n",
    "from qiskit.visualization import plot_histogram\n",
    "from qiskit_experiments.library import LocalReadoutError, CorrelatedReadoutError\n",
    "from qiskit.tools.visualization import *\n",
    "from qiskit_aer import AerSimulator\n",
    "from qiskit.providers.fake_provider import FakePerth\n",
    "\n",
    "from qiskit.result.mitigation.utils import (\n",
    "    expval_with_stddev,\n",
    "    str2diag,\n",
    "    counts_probability_vector\n",
    ")\n",
    "\n",
    "# Import general libraries (needed for functions)\n",
    "import numpy as np\n",
    "import time\n",
    "\n",
    "# Import Qiskit classes\n",
    "import qiskit\n",
    "from qiskit import QuantumRegister, QuantumCircuit, ClassicalRegister, Aer\n",
    "from qiskit.providers.aer import noise\n",
    "from qiskit.tools.visualization import plot_histogram\n",
    "\n",
    "# Import measurement calibration functions\n",
    "from qiskit.ignis.mitigation.measurement import (complete_meas_cal, tensored_meas_cal,\n",
    "                                                 CompleteMeasFitter, TensoredMeasFitter)\n",
    "\n"
   ]
  },
  {
   "cell_type": "code",
   "execution_count": 4,
   "metadata": {},
   "outputs": [
    {
     "name": "stderr",
     "output_type": "stream",
     "text": [
      "/tmp/ipykernel_194810/3179522997.py:3: DeprecationWarning: from_dict has been deprecated as of qiskit-aer 0.10.0 and will be removed no earlier than 3 months from that release date.\n",
      "  noise_model = NoiseModel.from_dict(noise_dict)\n"
     ]
    }
   ],
   "source": [
    "noise_dict = pd.read_pickle('./NoiseModel/fakecairo.pkl')\n",
    "# Load the noise model from the dictionary\n",
    "noise_model = NoiseModel.from_dict(noise_dict)\n",
    "backend = AerSimulator(method = \"density_matrix\", noise_model = noise_model)"
   ]
  },
  {
   "cell_type": "code",
   "execution_count": 5,
   "metadata": {},
   "outputs": [
    {
     "name": "stdout",
     "output_type": "stream",
     "text": [
      "         ░ ┌─┐         \n",
      "   q_0: ─░─┤M├─────────\n",
      "         ░ └╥┘┌─┐      \n",
      "   q_1: ─░──╫─┤M├──────\n",
      "         ░  ║ └╥┘┌─┐   \n",
      "   q_2: ─░──╫──╫─┤M├───\n",
      "         ░  ║  ║ └╥┘┌─┐\n",
      "   q_3: ─░──╫──╫──╫─┤M├\n",
      "         ░  ║  ║  ║ └╥┘\n",
      "meas: 4/════╩══╩══╩══╩═\n",
      "            0  1  2  3 \n",
      "        ┌───┐ ░ ┌─┐         \n",
      "   q_0: ┤ X ├─░─┤M├─────────\n",
      "        ├───┤ ░ └╥┘┌─┐      \n",
      "   q_1: ┤ X ├─░──╫─┤M├──────\n",
      "        ├───┤ ░  ║ └╥┘┌─┐   \n",
      "   q_2: ┤ X ├─░──╫──╫─┤M├───\n",
      "        ├───┤ ░  ║  ║ └╥┘┌─┐\n",
      "   q_3: ┤ X ├─░──╫──╫──╫─┤M├\n",
      "        └───┘ ░  ║  ║  ║ └╥┘\n",
      "meas: 4/═════════╩══╩══╩══╩═\n",
      "                 0  1  2  3 \n"
     ]
    }
   ],
   "source": [
    "shots = 1024\n",
    "qubits = [0,1,2,3]\n",
    "num_qubits = len(qubits)\n",
    "\n",
    "exp = LocalReadoutError(qubits)\n",
    "for c in exp.circuits():\n",
    "    print(c)"
   ]
  },
  {
   "cell_type": "code",
   "execution_count": 8,
   "metadata": {},
   "outputs": [
    {
     "ename": "AttributeError",
     "evalue": "'tuple' object has no attribute 'configuration'",
     "output_type": "error",
     "traceback": [
      "\u001b[0;31m---------------------------------------------------------------------------\u001b[0m",
      "\u001b[0;31mAttributeError\u001b[0m                            Traceback (most recent call last)",
      "\u001b[1;32m/home/muzhou/codes/QC-Contest-underwater/readout_error_mitigation.ipynb Cell 4\u001b[0m line \u001b[0;36m2\n\u001b[1;32m      <a href='vscode-notebook-cell://ssh-remote%2B7b22686f73744e616d65223a225175616e74756d5f31227d/home/muzhou/codes/QC-Contest-underwater/readout_error_mitigation.ipynb#W3sdnNjb2RlLXJlbW90ZQ%3D%3D?line=0'>1</a>\u001b[0m exp\u001b[39m.\u001b[39manalysis\u001b[39m.\u001b[39mset_options(plot\u001b[39m=\u001b[39m\u001b[39mTrue\u001b[39;00m)\n\u001b[0;32m----> <a href='vscode-notebook-cell://ssh-remote%2B7b22686f73744e616d65223a225175616e74756d5f31227d/home/muzhou/codes/QC-Contest-underwater/readout_error_mitigation.ipynb#W3sdnNjb2RlLXJlbW90ZQ%3D%3D?line=1'>2</a>\u001b[0m result \u001b[39m=\u001b[39m exp\u001b[39m.\u001b[39;49mrun(backend)\n\u001b[1;32m      <a href='vscode-notebook-cell://ssh-remote%2B7b22686f73744e616d65223a225175616e74756d5f31227d/home/muzhou/codes/QC-Contest-underwater/readout_error_mitigation.ipynb#W3sdnNjb2RlLXJlbW90ZQ%3D%3D?line=2'>3</a>\u001b[0m \u001b[39m# mitigator = result.analysis_results(0).value\u001b[39;00m\n",
      "File \u001b[0;32m~/anaconda3/envs/quantum/lib/python3.11/site-packages/qiskit_experiments/framework/base_experiment.py:238\u001b[0m, in \u001b[0;36mBaseExperiment.run\u001b[0;34m(self, backend, analysis, timeout, **run_options)\u001b[0m\n\u001b[1;32m    235\u001b[0m experiment\u001b[39m.\u001b[39m_finalize()\n\u001b[1;32m    237\u001b[0m \u001b[39m# Generate and transpile circuits\u001b[39;00m\n\u001b[0;32m--> 238\u001b[0m transpiled_circuits \u001b[39m=\u001b[39m experiment\u001b[39m.\u001b[39;49m_transpiled_circuits()\n\u001b[1;32m    240\u001b[0m \u001b[39m# Initialize result container\u001b[39;00m\n\u001b[1;32m    241\u001b[0m experiment_data \u001b[39m=\u001b[39m experiment\u001b[39m.\u001b[39m_initialize_experiment_data()\n",
      "File \u001b[0;32m~/anaconda3/envs/quantum/lib/python3.11/site-packages/qiskit_experiments/framework/base_experiment.py:319\u001b[0m, in \u001b[0;36mBaseExperiment._transpiled_circuits\u001b[0;34m(self)\u001b[0m\n\u001b[1;32m    317\u001b[0m transpile_opts \u001b[39m=\u001b[39m copy\u001b[39m.\u001b[39mcopy(\u001b[39mself\u001b[39m\u001b[39m.\u001b[39mtranspile_options\u001b[39m.\u001b[39m\u001b[39m__dict__\u001b[39m)\n\u001b[1;32m    318\u001b[0m transpile_opts[\u001b[39m\"\u001b[39m\u001b[39minitial_layout\u001b[39m\u001b[39m\"\u001b[39m] \u001b[39m=\u001b[39m \u001b[39mlist\u001b[39m(\u001b[39mself\u001b[39m\u001b[39m.\u001b[39mphysical_qubits)\n\u001b[0;32m--> 319\u001b[0m transpiled \u001b[39m=\u001b[39m transpile(\u001b[39mself\u001b[39;49m\u001b[39m.\u001b[39;49mcircuits(), \u001b[39mself\u001b[39;49m\u001b[39m.\u001b[39;49mbackend, \u001b[39m*\u001b[39;49m\u001b[39m*\u001b[39;49mtranspile_opts)\n\u001b[1;32m    321\u001b[0m \u001b[39mreturn\u001b[39;00m transpiled\n",
      "File \u001b[0;32m~/anaconda3/envs/quantum/lib/python3.11/site-packages/qiskit/compiler/transpiler.py:334\u001b[0m, in \u001b[0;36mtranspile\u001b[0;34m(circuits, backend, basis_gates, inst_map, coupling_map, backend_properties, initial_layout, layout_method, routing_method, translation_method, scheduling_method, instruction_durations, dt, approximation_degree, timing_constraints, seed_transpiler, optimization_level, callback, output_name, unitary_synthesis_method, unitary_synthesis_plugin_config, target, hls_config, init_method, optimization_method, ignore_backend_supplied_default_methods)\u001b[0m\n\u001b[1;32m    331\u001b[0m output_name \u001b[39m=\u001b[39m _parse_output_name(output_name, circuits)\n\u001b[1;32m    332\u001b[0m inst_map \u001b[39m=\u001b[39m _parse_inst_map(inst_map, backend)\n\u001b[0;32m--> 334\u001b[0m _check_circuits_coupling_map(circuits, coupling_map, backend)\n\u001b[1;32m    336\u001b[0m timing_constraints \u001b[39m=\u001b[39m _parse_timing_constraints(backend, timing_constraints)\n\u001b[1;32m    338\u001b[0m \u001b[39mif\u001b[39;00m inst_map \u001b[39mis\u001b[39;00m \u001b[39mnot\u001b[39;00m \u001b[39mNone\u001b[39;00m \u001b[39mand\u001b[39;00m inst_map\u001b[39m.\u001b[39mhas_custom_gate() \u001b[39mand\u001b[39;00m target \u001b[39mis\u001b[39;00m \u001b[39mnot\u001b[39;00m \u001b[39mNone\u001b[39;00m:\n\u001b[1;32m    339\u001b[0m     \u001b[39m# Do not mutate backend target\u001b[39;00m\n",
      "File \u001b[0;32m~/anaconda3/envs/quantum/lib/python3.11/site-packages/qiskit/compiler/transpiler.py:438\u001b[0m, in \u001b[0;36m_check_circuits_coupling_map\u001b[0;34m(circuits, cmap, backend)\u001b[0m\n\u001b[1;32m    436\u001b[0m backend_version \u001b[39m=\u001b[39m \u001b[39mgetattr\u001b[39m(backend, \u001b[39m\"\u001b[39m\u001b[39mversion\u001b[39m\u001b[39m\"\u001b[39m, \u001b[39m0\u001b[39m)\n\u001b[1;32m    437\u001b[0m \u001b[39mif\u001b[39;00m backend_version \u001b[39m<\u001b[39m\u001b[39m=\u001b[39m \u001b[39m1\u001b[39m:\n\u001b[0;32m--> 438\u001b[0m     \u001b[39mif\u001b[39;00m \u001b[39mnot\u001b[39;00m backend\u001b[39m.\u001b[39;49mconfiguration()\u001b[39m.\u001b[39msimulator:\n\u001b[1;32m    439\u001b[0m         max_qubits \u001b[39m=\u001b[39m backend\u001b[39m.\u001b[39mconfiguration()\u001b[39m.\u001b[39mn_qubits\n\u001b[1;32m    440\u001b[0m     \u001b[39melse\u001b[39;00m:\n",
      "\u001b[0;31mAttributeError\u001b[0m: 'tuple' object has no attribute 'configuration'"
     ]
    }
   ],
   "source": [
    "exp.analysis.set_options(plot=True)\n",
    "result = exp.run(backend)\n",
    "# mitigator = result.analysis_results(0).value"
   ]
  },
  {
   "cell_type": "code",
   "execution_count": 9,
   "metadata": {},
   "outputs": [
    {
     "name": "stdout",
     "output_type": "stream",
     "text": [
      "0: ───X───\n",
      "\n",
      "1: ───X───\n"
     ]
    }
   ],
   "source": [
    "from cirq import LineQubit, Circuit, X, measure_each\n",
    "\n",
    "from mitiq.observable.observable import Observable\n",
    "from mitiq.observable.pauli import PauliString\n",
    "\n",
    "qreg = [LineQubit(i) for i in range(2)]\n",
    "circuit = Circuit(X.on_each(*qreg))\n",
    "observable = Observable(PauliString(\"ZI\"), PauliString(\"IZ\"))\n",
    "\n",
    "print(circuit)"
   ]
  },
  {
   "cell_type": "code",
   "execution_count": null,
   "metadata": {},
   "outputs": [],
   "source": [
    "from functools import partial\n",
    "\n",
    "import numpy as np\n",
    "from cirq.experiments.single_qubit_readout_calibration_test import (\n",
    "    NoisySingleQubitReadoutSampler,\n",
    ")\n",
    "\n",
    "from mitiq import MeasurementResult\n",
    "\n",
    "def noisy_readout_executor(circuit, p0, p1, shots=8192) -> MeasurementResult:\n",
    "    # Replace with code based on your frontend and backend.\n",
    "    simulator = NoisySingleQubitReadoutSampler(p0, p1)\n",
    "    result = simulator.run(circuit, repetitions=shots)\n",
    "    bitstrings = np.column_stack(list(result.measurements.values()))\n",
    "    return MeasurementResult(bitstrings, qubit_indices = (0, 1))"
   ]
  },
  {
   "cell_type": "code",
   "execution_count": null,
   "metadata": {},
   "outputs": [],
   "source": [
    "from mitiq.raw import execute as raw_execute\n",
    "\n",
    "# Compute the expectation value of the observable.\n",
    "# Use a noisy executor that has a 25% chance of bit flipping\n",
    "p_flip = 0.25\n",
    "noisy_executor = partial(noisy_readout_executor, p0=p_flip, p1=p_flip)\n",
    "noisy_value = raw_execute(circuit, noisy_executor, observable)\n",
    "\n",
    "ideal_executor = partial(noisy_readout_executor, p0=0, p1=0)\n",
    "ideal_value = raw_execute(circuit, ideal_executor, observable)\n",
    "error = abs((ideal_value - noisy_value)/ideal_value)\n",
    "print(f\"Error without mitigation: {error:.3}\")"
   ]
  },
  {
   "cell_type": "code",
   "execution_count": 69,
   "metadata": {},
   "outputs": [
    {
     "data": {
      "text/html": [
       "<pre style=\"word-wrap: normal;white-space: pre;background: #fff0;line-height: 1.1;font-family: &quot;Courier New&quot;,Courier,monospace\">        ░ ┌─┐            \n",
       "q23_0: ─░─┤M├────────────\n",
       "        ░ └╥┘┌─┐         \n",
       "q23_1: ─░──╫─┤M├─────────\n",
       "        ░  ║ └╥┘┌─┐      \n",
       "q23_2: ─░──╫──╫─┤M├──────\n",
       "        ░  ║  ║ └╥┘┌─┐   \n",
       "q23_3: ─░──╫──╫──╫─┤M├───\n",
       "        ░  ║  ║  ║ └╥┘┌─┐\n",
       "q23_4: ─░──╫──╫──╫──╫─┤M├\n",
       "        ░  ║  ║  ║  ║ └╥┘\n",
       "c22: 5/════╩══╩══╩══╩══╩═\n",
       "           0  1  2  3  4 </pre>"
      ],
      "text/plain": [
       "        ░ ┌─┐            \n",
       "q23_0: ─░─┤M├────────────\n",
       "        ░ └╥┘┌─┐         \n",
       "q23_1: ─░──╫─┤M├─────────\n",
       "        ░  ║ └╥┘┌─┐      \n",
       "q23_2: ─░──╫──╫─┤M├──────\n",
       "        ░  ║  ║ └╥┘┌─┐   \n",
       "q23_3: ─░──╫──╫──╫─┤M├───\n",
       "        ░  ║  ║  ║ └╥┘┌─┐\n",
       "q23_4: ─░──╫──╫──╫──╫─┤M├\n",
       "        ░  ║  ║  ║  ║ └╥┘\n",
       "c22: 5/════╩══╩══╩══╩══╩═\n",
       "           0  1  2  3  4 "
      ]
     },
     "execution_count": 69,
     "metadata": {},
     "output_type": "execute_result"
    }
   ],
   "source": [
    "qr = qiskit.QuantumRegister(5)\n",
    "cr = ClassicalRegister(3)\n",
    "ghz = QuantumCircuit(qr, cr)\n",
    "ghz.h(qr[2])\n",
    "ghz.cx(qr[2], qr[3])\n",
    "ghz.cx(qr[3], qr[4])\n",
    "ghz.measure(qr[2],cr[0])\n",
    "ghz.measure(qr[3],cr[1])\n",
    "ghz.measure(qr[4],cr[2])\n",
    "qubit_list = [[0],[1],[2],[3],[4]]\n",
    "cal_circuits, mit_pattern = tensored_meas_cal(mit_pattern=qubit_list, qr=qr, circlabel='mcal')\n",
    "# meas_calibs, state_labels = complete_meas_cal(qubit_list=qubit_list, qr=qr, circlabel='mcal')\n",
    "cal_circuits[0].draw()"
   ]
  },
  {
   "cell_type": "code",
   "execution_count": 76,
   "metadata": {},
   "outputs": [
    {
     "name": "stderr",
     "output_type": "stream",
     "text": [
      "/tmp/ipykernel_22673/1110123049.py:3: DeprecationWarning: from_dict has been deprecated as of qiskit-aer 0.10.0 and will be removed no earlier than 3 months from that release date.\n",
      "  noise_model = NoiseModel.from_dict(noise_dict)\n"
     ]
    },
    {
     "name": "stdout",
     "output_type": "stream",
     "text": [
      "method: SLSQPmethod: SLSQP\n",
      "\n",
      "[array([[0.9933, 0.0095],\n",
      "       [0.0067, 0.9905]]), array([[0.9957, 0.0097],\n",
      "       [0.0043, 0.9903]]), array([[0.9938, 0.0095],\n",
      "       [0.0062, 0.9905]]), array([[0.9933, 0.008 ],\n",
      "       [0.0067, 0.992 ]]), array([[0.9909, 0.0145],\n",
      "       [0.0091, 0.9855]])]\n"
     ]
    }
   ],
   "source": [
    "noise_dict = pd.read_pickle('./NoiseModel/fakecairo.pkl')\n",
    "# Load the noise model from the dictionary\n",
    "noise_model = NoiseModel.from_dict(noise_dict)\n",
    "\n",
    "backend = qiskit.Aer.get_backend('qasm_simulator')\n",
    "job = qiskit.execute(cal_circuits, backend=backend, shots=10000, noise_model=noise_model)\n",
    "cal_results = job.result()\n",
    "meas_fitter = TensoredMeasFitter(cal_results, mit_pattern, circlabel='mcal')\n",
    "# Results without mitigation\n",
    "raw_counts = cal_results.get_counts()\n",
    "\n",
    "# Get the filter object\n",
    "meas_filter = meas_fitter.filter\n",
    "\n",
    "# Results with mitigation\n",
    "mitigated_results = meas_filter.apply(cal_results)\n",
    "mitigated_counts = mitigated_results.get_counts()\n",
    "\n",
    "print(meas_fitter.cal_matrices)"
   ]
  },
  {
   "cell_type": "code",
   "execution_count": 74,
   "metadata": {},
   "outputs": [
    {
     "data": {
      "text/plain": [
       "[{'10001': 1,\n",
       "  '10010': 1,\n",
       "  '00001': 30,\n",
       "  '01001': 1,\n",
       "  '01000': 30,\n",
       "  '00100': 26,\n",
       "  '10000': 35,\n",
       "  '00010': 23,\n",
       "  '00000': 4853},\n",
       " {'10011': 1,\n",
       "  '01110': 1,\n",
       "  '10111': 35,\n",
       "  '11011': 46,\n",
       "  '11110': 47,\n",
       "  '11100': 1,\n",
       "  '10110': 1,\n",
       "  '01111': 88,\n",
       "  '01011': 2,\n",
       "  '11101': 51,\n",
       "  '11111': 4727}]"
      ]
     },
     "execution_count": 74,
     "metadata": {},
     "output_type": "execute_result"
    }
   ],
   "source": [
    "raw_counts"
   ]
  },
  {
   "cell_type": "code",
   "execution_count": 75,
   "metadata": {},
   "outputs": [
    {
     "data": {
      "text/plain": [
       "[{'00000': 5000.0, '10000': 8.517629632165402e-08},\n",
       " {'00001': 4.510117155556008e-15,\n",
       "  '00010': 6.629457111045806e-16,\n",
       "  '00011': 7.808725839461804e-16,\n",
       "  '00100': 3.1530902776900923e-16,\n",
       "  '00110': 8.977968699039407e-16,\n",
       "  '01000': 7.585119021653011e-16,\n",
       "  '01001': 3.7540687227735455e-16,\n",
       "  '01010': 8.262520013303863e-16,\n",
       "  '01011': 0.3364112043239343,\n",
       "  '01100': 7.005660247462654e-16,\n",
       "  '01110': 1.2679063422907657e-15,\n",
       "  '01111': 4.148951962498738e-15,\n",
       "  '10001': 1.0178263192223816e-15,\n",
       "  '10010': 2.6381605131665573e-17,\n",
       "  '10011': 5.4359402842778464e-15,\n",
       "  '10100': 3.42735763856575e-16,\n",
       "  '10110': 5.882509299992192e-15,\n",
       "  '11100': 4.11585535595694e-15,\n",
       "  '11101': 0.5277373562054327,\n",
       "  '11111': 4999.135851439471}]"
      ]
     },
     "execution_count": 75,
     "metadata": {},
     "output_type": "execute_result"
    }
   ],
   "source": [
    "mitigated_counts\n",
    "# plot_histogram([raw_counts, mitigated_counts], legend=['raw', 'mitigated'])"
   ]
  },
  {
   "cell_type": "code",
   "execution_count": 44,
   "metadata": {},
   "outputs": [
    {
     "name": "stdout",
     "output_type": "stream",
     "text": [
      "[[0.98518428 0.01921572]\n",
      " [0.01821572 0.97738428]]\n",
      "[[ 1.0069176 -0.0069176]\n",
      " [-0.0103764  1.0103764]]\n",
      "[[ 1.00000000e+00  1.56092501e-19]\n",
      " [-1.48254360e-18  1.00000000e+00]]\n",
      "[array([[ 1.0069176, -0.0069176],\n",
      "       [-0.0103764,  1.0103764]]), array([[0.9956, 0.0102],\n",
      "       [0.0044, 0.9898]]), array([[0.9956, 0.0092],\n",
      "       [0.0044, 0.9908]]), array([[0.9958, 0.0082],\n",
      "       [0.0042, 0.9918]]), array([[0.9906, 0.0154],\n",
      "       [0.0094, 0.9846]]), array([[0.9902, 0.0104],\n",
      "       [0.0098, 0.9896]]), array([[0.9934, 0.0124],\n",
      "       [0.0066, 0.9876]])]\n"
     ]
    }
   ],
   "source": [
    "a = np.array([[0.9918, 0.0126],\n",
    "       [0.0082, 0.9874]])\n",
    "b = np.array([[0.9932, 0.0068], [0.010199999999999987, 0.9898]])\n",
    "c = a @ b\n",
    "d = np.linalg.inv(b)\n",
    "meas_fitter.cal_matrices[0] = d\n",
    "print(c)\n",
    "print(d)\n",
    "print(d @ b)\n",
    "print(meas_fitter.cal_matrices)"
   ]
  },
  {
   "cell_type": "code",
   "execution_count": 36,
   "metadata": {},
   "outputs": [
    {
     "data": {
      "text/plain": [
       "<qiskit.ignis.mitigation.measurement.fitters.TensoredMeasFitter at 0x7fcd93975f10>"
      ]
     },
     "execution_count": 36,
     "metadata": {},
     "output_type": "execute_result"
    }
   ],
   "source": [
    "meas_fitter"
   ]
  },
  {
   "cell_type": "code",
   "execution_count": 45,
   "metadata": {},
   "outputs": [
    {
     "data": {
      "image/png": "[encoded data removed]",
      "text/plain": [
       "<Figure size 640x480 with 2 Axes>"
      ]
     },
     "metadata": {},
     "output_type": "display_data"
    }
   ],
   "source": [
    "# Plot the calibration matrix\n",
    "meas_fitter.plot_calibration()"
   ]
  },
  {
   "cell_type": "code",
   "execution_count": 50,
   "metadata": {},
   "outputs": [
    {
     "name": "stdout",
     "output_type": "stream",
     "text": [
      "Average Measurement Fidelity: 1.008647\n"
     ]
    }
   ],
   "source": [
    "# What is the measurement fidelity?\n",
    "print(\"Average Measurement Fidelity: %f\" % meas_fitter.readout_fidelity(cal_index=0))\n",
    "\n",
    "# # What is the measurement fidelity of Q0?\n",
    "# print(\"Average Measurement Fidelity of Q0: %f\" % meas_fitter.readout_fidelity(\n",
    "#     label_list = [['000','001','010','011'],['100','101','110','111']]))"
   ]
  },
  {
   "cell_type": "code",
   "execution_count": null,
   "metadata": {},
   "outputs": [],
   "source": []
  }
 ],
 "metadata": {
  "kernelspec": {
   "display_name": "quantum",
   "language": "python",
   "name": "python3"
  },
  "language_info": {
   "codemirror_mode": {
    "name": "ipython",
    "version": 3
   },
   "file_extension": ".py",
   "mimetype": "text/x-python",
   "name": "python",
   "nbconvert_exporter": "python",
   "pygments_lexer": "ipython3",
   "version": "3.11.5"
  },
  "orig_nbformat": 4
 },
 "nbformat": 4,
 "nbformat_minor": 2
}
