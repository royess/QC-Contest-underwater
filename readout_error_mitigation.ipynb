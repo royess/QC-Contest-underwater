{
 "cells": [
  {
   "cell_type": "code",
   "execution_count": 2,
   "metadata": {},
   "outputs": [
    {
     "name": "stderr",
     "output_type": "stream",
     "text": [
      "/tmp/ipykernel_34661/4123567062.py:60: DeprecationWarning: The qiskit.ignis package is deprecated and has been supersceded by the qiskit-experiments project. Refer to the migration guide: https://github.com/Qiskit/qiskit-ignis#migration-guide on how to migrate to the new project.\n",
      "  from qiskit.ignis.mitigation.measurement import (complete_meas_cal, tensored_meas_cal,\n"
     ]
    }
   ],
   "source": [
    "import qiskit\n",
    "from qiskit.circuit import QuantumCircuit\n",
    "from qiskit.providers.aer.noise import NoiseModel\n",
    "from qiskit_aer import AerSimulator\n",
    "import numpy as np\n",
    "import pandas as pd\n",
    "from mitiq import Executor, MeasurementResult, Observable\n",
    "from cirq import DensityMatrixSimulator, depolarize\n",
    "from mitiq.interface import convert_to_mitiq\n",
    "import mitiq\n",
    "from mitiq import zne, benchmarks, pec\n",
    "from mitiq.pec.representations.depolarizing import represent_operations_in_circuit_with_local_depolarizing_noise\n",
    "\n",
    "import qiskit\n",
    "from qiskit.circuit import QuantumCircuit\n",
    "from qiskit.providers.aer.noise import NoiseModel\n",
    "from qiskit_aer import AerSimulator\n",
    "import numpy as np\n",
    "import pandas as pd\n",
    "from mitiq import Executor, MeasurementResult, Observable\n",
    "from cirq import DensityMatrixSimulator, depolarize\n",
    "from mitiq.interface import convert_to_mitiq\n",
    "import mitiq\n",
    "from mitiq import zne, benchmarks, pec\n",
    "from mitiq.pec.representations import find_optimal_representation\n",
    "from mitiq.pec.representations.depolarizing import represent_operations_in_circuit_with_local_depolarizing_noise\n",
    "from mitiq.pec.channels import kraus_to_super\n",
    "from qiskit.circuit.library import RZGate, SXGate, CXGate\n",
    "from qiskit.circuit.library.generalized_gates import PauliGate\n",
    "from qiskit.extensions import UnitaryGate\n",
    "import time\n",
    "import copy\n",
    "import pdb\n",
    "import numpy as np\n",
    "import matplotlib.pyplot as plt\n",
    "from qiskit import QuantumCircuit\n",
    "from qiskit.visualization import plot_histogram\n",
    "from qiskit_experiments.library import LocalReadoutError, CorrelatedReadoutError\n",
    "from qiskit.tools.visualization import *\n",
    "from qiskit_aer import AerSimulator\n",
    "from qiskit.providers.fake_provider import FakePerth\n",
    "\n",
    "from qiskit.result.mitigation.utils import (\n",
    "    expval_with_stddev,\n",
    "    str2diag,\n",
    "    counts_probability_vector\n",
    ")\n",
    "\n",
    "# Import general libraries (needed for functions)\n",
    "import numpy as np\n",
    "import time\n",
    "\n",
    "# Import Qiskit classes\n",
    "import qiskit\n",
    "from qiskit import QuantumRegister, QuantumCircuit, ClassicalRegister, Aer\n",
    "from qiskit.providers.aer import noise\n",
    "from qiskit.tools.visualization import plot_histogram\n",
    "\n",
    "# Import measurement calibration functions\n",
    "from qiskit.ignis.mitigation.measurement import (complete_meas_cal, tensored_meas_cal,\n",
    "                                                 CompleteMeasFitter, TensoredMeasFitter)\n",
    "\n"
   ]
  },
  {
   "cell_type": "code",
   "execution_count": 3,
   "metadata": {},
   "outputs": [
    {
     "name": "stderr",
     "output_type": "stream",
     "text": [
      "/tmp/ipykernel_34661/3721001093.py:3: DeprecationWarning: from_dict has been deprecated as of qiskit-aer 0.10.0 and will be removed no earlier than 3 months from that release date.\n",
      "  noise_model = NoiseModel.from_dict(noise_dict)\n"
     ]
    }
   ],
   "source": [
    "noise_dict = pd.read_pickle('./NoiseModel/fakecairo.pkl')\n",
    "# Load the noise model from the dictionary\n",
    "noise_model = NoiseModel.from_dict(noise_dict)\n",
    "backend = AerSimulator(method = \"density_matrix\", noise_model = noise_model)"
   ]
  },
  {
   "cell_type": "code",
   "execution_count": 4,
   "metadata": {},
   "outputs": [
    {
     "name": "stdout",
     "output_type": "stream",
     "text": [
      "         ░ ┌─┐         \n",
      "   q_0: ─░─┤M├─────────\n",
      "         ░ └╥┘┌─┐      \n",
      "   q_1: ─░──╫─┤M├──────\n",
      "         ░  ║ └╥┘┌─┐   \n",
      "   q_2: ─░──╫──╫─┤M├───\n",
      "         ░  ║  ║ └╥┘┌─┐\n",
      "   q_3: ─░──╫──╫──╫─┤M├\n",
      "         ░  ║  ║  ║ └╥┘\n",
      "meas: 4/════╩══╩══╩══╩═\n",
      "            0  1  2  3 \n",
      "        ┌───┐ ░ ┌─┐         \n",
      "   q_0: ┤ X ├─░─┤M├─────────\n",
      "        ├───┤ ░ └╥┘┌─┐      \n",
      "   q_1: ┤ X ├─░──╫─┤M├──────\n",
      "        ├───┤ ░  ║ └╥┘┌─┐   \n",
      "   q_2: ┤ X ├─░──╫──╫─┤M├───\n",
      "        ├───┤ ░  ║  ║ └╥┘┌─┐\n",
      "   q_3: ┤ X ├─░──╫──╫──╫─┤M├\n",
      "        └───┘ ░  ║  ║  ║ └╥┘\n",
      "meas: 4/═════════╩══╩══╩══╩═\n",
      "                 0  1  2  3 \n"
     ]
    }
   ],
   "source": [
    "shots = 1024\n",
    "qubits = [0,1,2,3]\n",
    "num_qubits = len(qubits)\n",
    "\n",
    "exp = LocalReadoutError(qubits)\n",
    "for c in exp.circuits():\n",
    "    print(c)"
   ]
  },
  {
   "cell_type": "code",
   "execution_count": 5,
   "metadata": {},
   "outputs": [],
   "source": [
    "exp.analysis.set_options(plot=True)\n",
    "result = exp.run(backend)\n",
    "# mitigator = result.analysis_results(0).value"
   ]
  },
  {
   "cell_type": "code",
   "execution_count": 6,
   "metadata": {},
   "outputs": [
    {
     "name": "stdout",
     "output_type": "stream",
     "text": [
      "0: ───X───\n",
      "\n",
      "1: ───X───\n"
     ]
    }
   ],
   "source": [
    "from cirq import LineQubit, Circuit, X, measure_each\n",
    "\n",
    "from mitiq.observable.observable import Observable\n",
    "from mitiq.observable.pauli import PauliString\n",
    "\n",
    "qreg = [LineQubit(i) for i in range(2)]\n",
    "circuit = Circuit(X.on_each(*qreg))\n",
    "observable = Observable(PauliString(\"ZI\"), PauliString(\"IZ\"))\n",
    "\n",
    "print(circuit)"
   ]
  },
  {
   "cell_type": "code",
   "execution_count": 7,
   "metadata": {},
   "outputs": [
    {
     "ename": "ModuleNotFoundError",
     "evalue": "No module named 'pytest'",
     "output_type": "error",
     "traceback": [
      "\u001b[0;31m---------------------------------------------------------------------------\u001b[0m",
      "\u001b[0;31mModuleNotFoundError\u001b[0m                       Traceback (most recent call last)",
      "\u001b[1;32m/home/muzhou/codes/QC-Contest-underwater/readout_error_mitigation.ipynb Cell 6\u001b[0m line \u001b[0;36m4\n\u001b[1;32m      <a href='vscode-notebook-cell://ssh-remote%2B7b22686f73744e616d65223a225175616e74756d5f31227d/home/muzhou/codes/QC-Contest-underwater/readout_error_mitigation.ipynb#W5sdnNjb2RlLXJlbW90ZQ%3D%3D?line=0'>1</a>\u001b[0m \u001b[39mfrom\u001b[39;00m \u001b[39mfunctools\u001b[39;00m \u001b[39mimport\u001b[39;00m partial\n\u001b[1;32m      <a href='vscode-notebook-cell://ssh-remote%2B7b22686f73744e616d65223a225175616e74756d5f31227d/home/muzhou/codes/QC-Contest-underwater/readout_error_mitigation.ipynb#W5sdnNjb2RlLXJlbW90ZQ%3D%3D?line=2'>3</a>\u001b[0m \u001b[39mimport\u001b[39;00m \u001b[39mnumpy\u001b[39;00m \u001b[39mas\u001b[39;00m \u001b[39mnp\u001b[39;00m\n\u001b[0;32m----> <a href='vscode-notebook-cell://ssh-remote%2B7b22686f73744e616d65223a225175616e74756d5f31227d/home/muzhou/codes/QC-Contest-underwater/readout_error_mitigation.ipynb#W5sdnNjb2RlLXJlbW90ZQ%3D%3D?line=3'>4</a>\u001b[0m \u001b[39mfrom\u001b[39;00m \u001b[39mcirq\u001b[39;00m\u001b[39m.\u001b[39;00m\u001b[39mexperiments\u001b[39;00m\u001b[39m.\u001b[39;00m\u001b[39msingle_qubit_readout_calibration_test\u001b[39;00m \u001b[39mimport\u001b[39;00m (\n\u001b[1;32m      <a href='vscode-notebook-cell://ssh-remote%2B7b22686f73744e616d65223a225175616e74756d5f31227d/home/muzhou/codes/QC-Contest-underwater/readout_error_mitigation.ipynb#W5sdnNjb2RlLXJlbW90ZQ%3D%3D?line=4'>5</a>\u001b[0m     NoisySingleQubitReadoutSampler,\n\u001b[1;32m      <a href='vscode-notebook-cell://ssh-remote%2B7b22686f73744e616d65223a225175616e74756d5f31227d/home/muzhou/codes/QC-Contest-underwater/readout_error_mitigation.ipynb#W5sdnNjb2RlLXJlbW90ZQ%3D%3D?line=5'>6</a>\u001b[0m )\n\u001b[1;32m      <a href='vscode-notebook-cell://ssh-remote%2B7b22686f73744e616d65223a225175616e74756d5f31227d/home/muzhou/codes/QC-Contest-underwater/readout_error_mitigation.ipynb#W5sdnNjb2RlLXJlbW90ZQ%3D%3D?line=7'>8</a>\u001b[0m \u001b[39mfrom\u001b[39;00m \u001b[39mmitiq\u001b[39;00m \u001b[39mimport\u001b[39;00m MeasurementResult\n\u001b[1;32m     <a href='vscode-notebook-cell://ssh-remote%2B7b22686f73744e616d65223a225175616e74756d5f31227d/home/muzhou/codes/QC-Contest-underwater/readout_error_mitigation.ipynb#W5sdnNjb2RlLXJlbW90ZQ%3D%3D?line=9'>10</a>\u001b[0m \u001b[39mdef\u001b[39;00m \u001b[39mnoisy_readout_executor\u001b[39m(circuit, p0, p1, shots\u001b[39m=\u001b[39m\u001b[39m8192\u001b[39m) \u001b[39m-\u001b[39m\u001b[39m>\u001b[39m MeasurementResult:\n\u001b[1;32m     <a href='vscode-notebook-cell://ssh-remote%2B7b22686f73744e616d65223a225175616e74756d5f31227d/home/muzhou/codes/QC-Contest-underwater/readout_error_mitigation.ipynb#W5sdnNjb2RlLXJlbW90ZQ%3D%3D?line=10'>11</a>\u001b[0m     \u001b[39m# Replace with code based on your frontend and backend.\u001b[39;00m\n",
      "File \u001b[0;32m~/anaconda3/envs/quantum/lib/python3.11/site-packages/cirq/experiments/single_qubit_readout_calibration_test.py:15\u001b[0m\n\u001b[1;32m      1\u001b[0m \u001b[39m# Copyright 2019 The Cirq Developers\u001b[39;00m\n\u001b[1;32m      2\u001b[0m \u001b[39m#\u001b[39;00m\n\u001b[1;32m      3\u001b[0m \u001b[39m# Licensed under the Apache License, Version 2.0 (the \"License\");\u001b[39;00m\n\u001b[0;32m   (...)\u001b[0m\n\u001b[1;32m     12\u001b[0m \u001b[39m# See the License for the specific language governing permissions and\u001b[39;00m\n\u001b[1;32m     13\u001b[0m \u001b[39m# limitations under the License.\u001b[39;00m\n\u001b[1;32m     14\u001b[0m \u001b[39mfrom\u001b[39;00m \u001b[39mtyping\u001b[39;00m \u001b[39mimport\u001b[39;00m Sequence\n\u001b[0;32m---> 15\u001b[0m \u001b[39mimport\u001b[39;00m \u001b[39mpytest\u001b[39;00m\n\u001b[1;32m     17\u001b[0m \u001b[39mimport\u001b[39;00m \u001b[39mnumpy\u001b[39;00m \u001b[39mas\u001b[39;00m \u001b[39mnp\u001b[39;00m\n\u001b[1;32m     19\u001b[0m \u001b[39mimport\u001b[39;00m \u001b[39mcirq\u001b[39;00m\n",
      "\u001b[0;31mModuleNotFoundError\u001b[0m: No module named 'pytest'"
     ]
    }
   ],
   "source": [
    "from functools import partial\n",
    "\n",
    "import numpy as np\n",
    "from cirq.experiments.single_qubit_readout_calibration_test import (\n",
    "    NoisySingleQubitReadoutSampler,\n",
    ")\n",
    "\n",
    "from mitiq import MeasurementResult\n",
    "\n",
    "def noisy_readout_executor(circuit, p0, p1, shots=8192) -> MeasurementResult:\n",
    "    # Replace with code based on your frontend and backend.\n",
    "    simulator = NoisySingleQubitReadoutSampler(p0, p1)\n",
    "    result = simulator.run(circuit, repetitions=shots)\n",
    "    bitstrings = np.column_stack(list(result.measurements.values()))\n",
    "    return MeasurementResult(bitstrings, qubit_indices = (0, 1))"
   ]
  },
  {
   "cell_type": "code",
   "execution_count": null,
   "metadata": {},
   "outputs": [],
   "source": [
    "from mitiq.raw import execute as raw_execute\n",
    "\n",
    "# Compute the expectation value of the observable.\n",
    "# Use a noisy executor that has a 25% chance of bit flipping\n",
    "p_flip = 0.25\n",
    "noisy_executor = partial(noisy_readout_executor, p0=p_flip, p1=p_flip)\n",
    "noisy_value = raw_execute(circuit, noisy_executor, observable)\n",
    "\n",
    "ideal_executor = partial(noisy_readout_executor, p0=0, p1=0)\n",
    "ideal_value = raw_execute(circuit, ideal_executor, observable)\n",
    "error = abs((ideal_value - noisy_value)/ideal_value)\n",
    "print(f\"Error without mitigation: {error:.3}\")"
   ]
  },
  {
   "cell_type": "code",
   "execution_count": 9,
   "metadata": {},
   "outputs": [
    {
     "data": {
      "text/html": [
       "<pre style=\"word-wrap: normal;white-space: pre;background: #fff0;line-height: 1.1;font-family: &quot;Courier New&quot;,Courier,monospace\">       ░ ┌─┐            \n",
       "q0_0: ─░─┤M├────────────\n",
       "       ░ └╥┘┌─┐         \n",
       "q0_1: ─░──╫─┤M├─────────\n",
       "       ░  ║ └╥┘┌─┐      \n",
       "q0_2: ─░──╫──╫─┤M├──────\n",
       "       ░  ║  ║ └╥┘┌─┐   \n",
       "q0_3: ─░──╫──╫──╫─┤M├───\n",
       "       ░  ║  ║  ║ └╥┘┌─┐\n",
       "q0_4: ─░──╫──╫──╫──╫─┤M├\n",
       "       ░  ║  ║  ║  ║ └╥┘\n",
       "c1: 5/════╩══╩══╩══╩══╩═\n",
       "          0  1  2  3  4 </pre>"
      ],
      "text/plain": [
       "       ░ ┌─┐            \n",
       "q0_0: ─░─┤M├────────────\n",
       "       ░ └╥┘┌─┐         \n",
       "q0_1: ─░──╫─┤M├─────────\n",
       "       ░  ║ └╥┘┌─┐      \n",
       "q0_2: ─░──╫──╫─┤M├──────\n",
       "       ░  ║  ║ └╥┘┌─┐   \n",
       "q0_3: ─░──╫──╫──╫─┤M├───\n",
       "       ░  ║  ║  ║ └╥┘┌─┐\n",
       "q0_4: ─░──╫──╫──╫──╫─┤M├\n",
       "       ░  ║  ║  ║  ║ └╥┘\n",
       "c1: 5/════╩══╩══╩══╩══╩═\n",
       "          0  1  2  3  4 "
      ]
     },
     "execution_count": 9,
     "metadata": {},
     "output_type": "execute_result"
    }
   ],
   "source": [
    "qr = qiskit.QuantumRegister(5)\n",
    "cr = ClassicalRegister(3)\n",
    "ghz = QuantumCircuit(qr, cr)\n",
    "ghz.h(qr[2])\n",
    "ghz.cx(qr[2], qr[3])\n",
    "ghz.cx(qr[3], qr[4])\n",
    "ghz.measure(qr[2],cr[0])\n",
    "ghz.measure(qr[3],cr[1])\n",
    "ghz.measure(qr[4],cr[2])\n",
    "qubit_list = [[0],[1],[2],[3],[4]]\n",
    "cal_circuits, mit_pattern = tensored_meas_cal(mit_pattern=qubit_list, qr=qr, circlabel='mcal')\n",
    "# meas_calibs, state_labels = complete_meas_cal(qubit_list=qubit_list, qr=qr, circlabel='mcal')\n",
    "cal_circuits[0].draw()"
   ]
  },
  {
   "cell_type": "code",
   "execution_count": 14,
   "metadata": {},
   "outputs": [
    {
     "name": "stderr",
     "output_type": "stream",
     "text": [
      "/tmp/ipykernel_34661/1110123049.py:3: DeprecationWarning: from_dict has been deprecated as of qiskit-aer 0.10.0 and will be removed no earlier than 3 months from that release date.\n",
      "  noise_model = NoiseModel.from_dict(noise_dict)\n"
     ]
    },
    {
     "name": "stdout",
     "output_type": "stream",
     "text": [
      "method: SLSQPmethod: SLSQP\n",
      "\n",
      "[array([[0.9934, 0.0097],\n",
      "       [0.0066, 0.9903]]), array([[0.9951, 0.0102],\n",
      "       [0.0049, 0.9898]]), array([[0.9951, 0.0111],\n",
      "       [0.0049, 0.9889]]), array([[0.9933, 0.0081],\n",
      "       [0.0067, 0.9919]]), array([[0.9911, 0.0163],\n",
      "       [0.0089, 0.9837]])]\n"
     ]
    }
   ],
   "source": [
    "noise_dict = pd.read_pickle('./NoiseModel/fakecairo.pkl')\n",
    "# Load the noise model from the dictionary\n",
    "noise_model = NoiseModel.from_dict(noise_dict)\n",
    "\n",
    "backend = qiskit.Aer.get_backend('qasm_simulator')\n",
    "job = qiskit.execute(cal_circuits, backend=backend, shots=10000, noise_model=noise_model)\n",
    "cal_results = job.result()\n",
    "meas_fitter = TensoredMeasFitter(cal_results, mit_pattern, circlabel='mcal')\n",
    "# Results without mitigation\n",
    "raw_counts = cal_results.get_counts()\n",
    "\n",
    "# Get the filter object\n",
    "meas_filter = meas_fitter.filter\n",
    "\n",
    "# Results with mitigation\n",
    "mitigated_results = meas_filter.apply(cal_results)\n",
    "mitigated_counts = mitigated_results.get_counts()\n",
    "\n",
    "print(meas_fitter.cal_matrices)"
   ]
  },
  {
   "cell_type": "code",
   "execution_count": null,
   "metadata": {},
   "outputs": [],
   "source": [
    "# raw_counts"
   ]
  },
  {
   "cell_type": "code",
   "execution_count": null,
   "metadata": {},
   "outputs": [],
   "source": [
    "# mitigated_counts\n",
    "# plot_histogram([raw_counts, mitigated_counts], legend=['raw', 'mitigated'])"
   ]
  },
  {
   "cell_type": "code",
   "execution_count": 13,
   "metadata": {},
   "outputs": [
    {
     "name": "stdout",
     "output_type": "stream",
     "text": [
      "[[0.98518428 0.01921572]\n",
      " [0.01821572 0.97738428]]\n",
      "[[ 1.0069176 -0.0069176]\n",
      " [-0.0103764  1.0103764]]\n",
      "[[ 1.00000000e+00  1.56092501e-19]\n",
      " [-1.48254360e-18  1.00000000e+00]]\n",
      "[array([[0.9918, 0.0082],\n",
      "       [0.0126, 0.9874]]), array([[0.996 , 0.0113],\n",
      "       [0.004 , 0.9887]]), array([[0.9938, 0.0118],\n",
      "       [0.0062, 0.9882]]), array([[0.9933, 0.007 ],\n",
      "       [0.0067, 0.993 ]]), array([[0.9894, 0.0164],\n",
      "       [0.0106, 0.9836]])]\n"
     ]
    }
   ],
   "source": [
    "a = np.array([[0.9932, 0.0068], [0.010199999999999987, 0.9898]])\n",
    "# b = np.array([[0.9932, 0.0068], [0.010199999999999987, 0.9898]])\n",
    "# c = a @ b\n",
    "# d = np.linalg.inv(b)\n",
    "meas_fitter.cal_matrices[0] = a.T\n",
    "# print(c)\n",
    "# print(d)\n",
    "# print(d @ b)\n",
    "print(meas_fitter.cal_matrices)"
   ]
  },
  {
   "cell_type": "code",
   "execution_count": 36,
   "metadata": {},
   "outputs": [
    {
     "data": {
      "text/plain": [
       "<qiskit.ignis.mitigation.measurement.fitters.TensoredMeasFitter at 0x7fcd93975f10>"
      ]
     },
     "execution_count": 36,
     "metadata": {},
     "output_type": "execute_result"
    }
   ],
   "source": [
    "meas_fitter"
   ]
  },
  {
   "cell_type": "code",
   "execution_count": 45,
   "metadata": {},
   "outputs": [
    {
     "data": {
      "image/png": "[encoded data removed]",
      "text/plain": [
       "<Figure size 640x480 with 2 Axes>"
      ]
     },
     "metadata": {},
     "output_type": "display_data"
    }
   ],
   "source": [
    "# Plot the calibration matrix\n",
    "meas_fitter.plot_calibration()"
   ]
  },
  {
   "cell_type": "code",
   "execution_count": 50,
   "metadata": {},
   "outputs": [
    {
     "name": "stdout",
     "output_type": "stream",
     "text": [
      "Average Measurement Fidelity: 1.008647\n"
     ]
    }
   ],
   "source": [
    "# What is the measurement fidelity?\n",
    "print(\"Average Measurement Fidelity: %f\" % meas_fitter.readout_fidelity(cal_index=0))\n",
    "\n",
    "# # What is the measurement fidelity of Q0?\n",
    "# print(\"Average Measurement Fidelity of Q0: %f\" % meas_fitter.readout_fidelity(\n",
    "#     label_list = [['000','001','010','011'],['100','101','110','111']]))"
   ]
  },
  {
   "cell_type": "code",
   "execution_count": null,
   "metadata": {},
   "outputs": [],
   "source": []
  }
 ],
 "metadata": {
  "kernelspec": {
   "display_name": "quantum",
   "language": "python",
   "name": "python3"
  },
  "language_info": {
   "codemirror_mode": {
    "name": "ipython",
    "version": 3
   },
   "file_extension": ".py",
   "mimetype": "text/x-python",
   "name": "python",
   "nbconvert_exporter": "python",
   "pygments_lexer": "ipython3",
   "version": "3.11.5"
  },
  "orig_nbformat": 4
 },
 "nbformat": 4,
 "nbformat_minor": 2
}
