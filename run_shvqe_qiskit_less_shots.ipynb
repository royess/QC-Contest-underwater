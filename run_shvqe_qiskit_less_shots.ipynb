{
 "cells": [
  {
   "cell_type": "markdown",
   "metadata": {
    "id": "gj3jZbCBSn71"
   },
   "source": [
    "# Run circuits in device emulators"
   ]
  },
  {
   "cell_type": "markdown",
   "metadata": {
    "id": "V30Z6_4G_Sto"
   },
   "source": [
    "# Implement Noise Model"
   ]
  },
  {
   "cell_type": "code",
   "execution_count": 1,
   "metadata": {
    "id": "6yqcs2Aejtv7",
    "tags": []
   },
   "outputs": [],
   "source": [
    "import numpy as np\n",
    "from qiskit import QuantumCircuit, transpile\n",
    "from qiskit.quantum_info import Kraus, SuperOp\n",
    "from qiskit_aer import AerSimulator\n",
    "from qiskit.tools.visualization import plot_histogram\n",
    "from qiskit_aer.noise import (NoiseModel, QuantumError, ReadoutError,\n",
    "    pauli_error, depolarizing_error, thermal_relaxation_error)\n",
    "import numpy as np\n",
    "from qiskit.tools.jupyter import *\n",
    "import warnings\n",
    "# warnings.filterwarnings('ignore')\n",
    "from qiskit import *\n",
    "import time\n",
    "from qiskit.providers.aer.noise import NoiseModel\n",
    "import qiskit.providers.aer.noise as noise\n",
    "from qiskit.utils import QuantumInstance, algorithm_globals"
   ]
  },
  {
   "cell_type": "code",
   "execution_count": 2,
   "metadata": {
    "id": "BBENV0zBoJZG"
   },
   "outputs": [],
   "source": [
    "from qiskit.providers.fake_provider import *"
   ]
  },
  {
   "cell_type": "code",
   "execution_count": 9,
   "metadata": {
    "id": "_z5kT9vNSWus"
   },
   "outputs": [],
   "source": [
    "seeds = 170\n",
    "algorithm_globals.random_seed = seeds\n",
    "seed_transpiler = seeds\n",
    "shot = int(np.floor(1800000 / 631))"
   ]
  },
  {
   "cell_type": "code",
   "execution_count": 10,
   "metadata": {},
   "outputs": [
    {
     "data": {
      "text/plain": [
       "2852"
      ]
     },
     "execution_count": 10,
     "metadata": {},
     "output_type": "execute_result"
    }
   ],
   "source": [
    "shot"
   ]
  },
  {
   "cell_type": "markdown",
   "metadata": {},
   "source": [
    "## Hamiltonian conversion\n",
    "\n",
    "By using SHVQE, we need to apply the inversal of Heisenberg part to the original Hamiltonian. First, load the original Hamiltonian from `Hamiltonian/OHhamiltonian.txt`."
   ]
  },
  {
   "cell_type": "code",
   "execution_count": 11,
   "metadata": {},
   "outputs": [],
   "source": [
    "with open('Hamiltonian/OHhamiltonian.txt', 'r') as file:\n",
    "    pauli_text_lines = file.readlines()\n",
    "paulis = []\n",
    "weight = []\n",
    "for line in pauli_text_lines:\n",
    "    line = line.replace(' ', '')\n",
    "    coeff, pauli_text_string = line.split(\"*\")\n",
    "    coeff = float(coeff)\n",
    "    weight.append(coeff)\n",
    "    # pauli_text_string = pauli_text_string[::-1] # TODO: this is a quick but wrong fix for qubits order\n",
    "    pauli_text_string = pauli_text_string.replace('\\n', '')\n",
    "    paulis.append(pauli_text_string)"
   ]
  },
  {
   "cell_type": "markdown",
   "metadata": {},
   "source": [
    "Then, we use `Stim` to apply the inversal of Heisenberg part to Hamiltonian. In our protocal, the Heisenberg part consists of `cz` gates, which commute with each other. The inversal of the Heisenberg part is itself."
   ]
  },
  {
   "cell_type": "code",
   "execution_count": 12,
   "metadata": {},
   "outputs": [],
   "source": [
    "import stim"
   ]
  },
  {
   "cell_type": "markdown",
   "metadata": {},
   "source": [
    "Load Heisenberg circuit."
   ]
  },
  {
   "cell_type": "code",
   "execution_count": 13,
   "metadata": {},
   "outputs": [],
   "source": [
    "heisenberg_text_combined = ''\n",
    "\n",
    "with open('saved_models/shvqe_clifford_ncz10_hei.qasm', 'r') as file:\n",
    "    heisenberg_text_lines = file.readlines()\n",
    "    heisenberg_text_combined = ''.join(heisenberg_text_lines[3:]) # omit the header"
   ]
  },
  {
   "cell_type": "code",
   "execution_count": 14,
   "metadata": {},
   "outputs": [],
   "source": [
    "import re\n",
    "\n",
    "\n",
    "# Define the regular expression pattern\n",
    "pattern = r\"q\\[(\\d+)\\],q\\[(\\d+)\\]\"\n",
    "\n",
    "# Define the replacement string\n",
    "replacement = r\"\\1 \\2\"\n",
    "\n",
    "# Use the sub() function to replace the matches\n",
    "stim_text = re.sub(pattern, replacement, heisenberg_text_combined).replace(';', '')"
   ]
  },
  {
   "cell_type": "markdown",
   "metadata": {},
   "source": [
    "Apply the Heisenberg circuit to each Pauli string."
   ]
  },
  {
   "cell_type": "code",
   "execution_count": 15,
   "metadata": {},
   "outputs": [
    {
     "name": "stdout",
     "output_type": "stream",
     "text": [
      "CPU times: user 20.3 ms, sys: 540 µs, total: 20.8 ms\n",
      "Wall time: 20.4 ms\n"
     ]
    }
   ],
   "source": [
    "%%time\n",
    "\n",
    "heisenberg_circ = stim.Circuit(stim_text)\n",
    "paulis_new = []\n",
    "\n",
    "for p in paulis:\n",
    "    ps  = stim.PauliString(p.replace('I', '_'))\n",
    "    ps = ps.after(heisenberg_circ)\n",
    "    paulis_new.append(ps.__str__().replace('_', 'I'))"
   ]
  },
  {
   "cell_type": "markdown",
   "metadata": {},
   "source": [
    "Construct the new Hamiltonian as observable. The number of Pauli strings is not changed by Clifford."
   ]
  },
  {
   "cell_type": "code",
   "execution_count": 16,
   "metadata": {
    "colab": {
     "base_uri": "https://localhost:8080/"
    },
    "id": "Ld6bpObI-l0n",
    "outputId": "18744ccd-0234-425a-e3cf-741452d8cad5"
   },
   "outputs": [
    {
     "name": "stdout",
     "output_type": "stream",
     "text": [
      ">>> Observable size: 631\n"
     ]
    }
   ],
   "source": [
    "from qiskit.quantum_info import SparsePauliOp\n",
    "\n",
    "observable = SparsePauliOp(paulis_new, weight)\n",
    "print(f\">>> Observable size: {observable.size}\")"
   ]
  },
  {
   "cell_type": "markdown",
   "metadata": {
    "id": "vPEQx7yh_dDE"
   },
   "source": [
    "# Circuit Transpile and Execution"
   ]
  },
  {
   "cell_type": "code",
   "execution_count": 17,
   "metadata": {
    "colab": {
     "base_uri": "https://localhost:8080/",
     "height": 171
    },
    "id": "lJ8S2H4F2uUl",
    "outputId": "efd7a7dd-cc85-4fc8-9fdc-9680c15ba8a7"
   },
   "outputs": [],
   "source": [
    "from qiskit import qasm2\n",
    "from qiskit_aer.primitives import Estimator\n",
    "\n",
    "circuit = qasm2.load('saved_models/shvqe_clifford_ncz10_sch.qasm')"
   ]
  },
  {
   "cell_type": "markdown",
   "metadata": {},
   "source": [
    "Reverse qubits to respect qiskit convention."
   ]
  },
  {
   "cell_type": "code",
   "execution_count": 18,
   "metadata": {},
   "outputs": [],
   "source": [
    "circuit = circuit.reverse_bits()"
   ]
  },
  {
   "cell_type": "code",
   "execution_count": 19,
   "metadata": {},
   "outputs": [],
   "source": [
    "# circuit.draw('mpl');"
   ]
  },
  {
   "cell_type": "markdown",
   "metadata": {
    "id": "ailYlmao_jBV"
   },
   "source": [
    "Transpile the circuit based on given system model from IBMQ_Montreal. **We use default transpiler from qiskit.**"
   ]
  },
  {
   "cell_type": "code",
   "execution_count": 20,
   "metadata": {
    "id": "SI275sum_rFg"
   },
   "outputs": [],
   "source": [
    "system_model = FakeMontreal()"
   ]
  },
  {
   "cell_type": "code",
   "execution_count": 21,
   "metadata": {
    "id": "65IYl_7U_zOh"
   },
   "outputs": [],
   "source": [
    "# transpiled_circuit = transpile(circuit, backend=system_model)"
   ]
  },
  {
   "cell_type": "code",
   "execution_count": 22,
   "metadata": {},
   "outputs": [],
   "source": [
    "# transpiled_circuit.draw();"
   ]
  },
  {
   "cell_type": "markdown",
   "metadata": {
    "id": "1UmOoQMZ_42L"
   },
   "source": [
    "## Noiseless\n",
    "Evaluate on the qiskit Estimator. Consider noiseless first."
   ]
  },
  {
   "cell_type": "code",
   "execution_count": 23,
   "metadata": {
    "id": "M6ACRPs4_GRi"
   },
   "outputs": [],
   "source": [
    "estimator_noiseless = Estimator(\n",
    "    backend_options = {\n",
    "        # simulation options\n",
    "        'method': 'statevector',\n",
    "        'device': 'CPU',\n",
    "        'max_parallel_threads' : 0,\n",
    "        'max_parallel_shots' : 0,\n",
    "        'statevector_parallel_threshold' : 5,\n",
    "        'coupling_map' : system_model.configuration().coupling_map,\n",
    "        'noise_model': None # noiseless\n",
    "    },\n",
    "    run_options = {\n",
    "        'shots': shot,\n",
    "        'seed': seeds,\n",
    "    },\n",
    "    transpile_options = {\n",
    "        'seed_transpiler' : seed_transpiler,\n",
    "    },\n",
    "    skip_transpilation=False\n",
    ")"
   ]
  },
  {
   "cell_type": "code",
   "execution_count": 24,
   "metadata": {},
   "outputs": [
    {
     "name": "stdout",
     "output_type": "stream",
     "text": [
      "CPU times: user 1d 1h 15min 23s, sys: 3min 46s, total: 1d 1h 19min 9s\n",
      "Wall time: 20min 35s\n"
     ]
    },
    {
     "data": {
      "text/plain": [
       "array([-78.75835435])"
      ]
     },
     "execution_count": 24,
     "metadata": {},
     "output_type": "execute_result"
    }
   ],
   "source": [
    "%%time\n",
    "job_noiseless = estimator_noiseless.run(circuit, observable)\n",
    "result_noiseless = job_noiseless.result()\n",
    "# print(f\">>> {result}\")\n",
    "result_noiseless.values"
   ]
  },
  {
   "cell_type": "code",
   "execution_count": 25,
   "metadata": {},
   "outputs": [],
   "source": [
    "def get_error_rate(val):\n",
    "    ref_value = -74.38714627\n",
    "    nuclear_repulsion_energy = 4.365374966545\n",
    "    energy_with_nuclear_repulsion = val + nuclear_repulsion_energy\n",
    "    error_rate = abs(abs(ref_value - energy_with_nuclear_repulsion) / ref_value * 100)\n",
    "    return error_rate"
   ]
  },
  {
   "cell_type": "code",
   "execution_count": 26,
   "metadata": {},
   "outputs": [
    {
     "data": {
      "text/plain": [
       "array([0.00784156])"
      ]
     },
     "execution_count": 26,
     "metadata": {},
     "output_type": "execute_result"
    }
   ],
   "source": [
    "get_error_rate(result_noiseless.values)"
   ]
  },
  {
   "cell_type": "markdown",
   "metadata": {},
   "source": [
    "## Noise models (TODO)\n",
    "### Fake Kolkata"
   ]
  },
  {
   "cell_type": "code",
   "execution_count": 27,
   "metadata": {
    "id": "2CHRkoGUxv9D"
   },
   "outputs": [],
   "source": [
    "import pickle"
   ]
  },
  {
   "cell_type": "code",
   "execution_count": 28,
   "metadata": {
    "id": "kHk6FZU1ypz2"
   },
   "outputs": [
    {
     "name": "stderr",
     "output_type": "stream",
     "text": [
      "/tmp/ipykernel_129130/3864961774.py:2: DeprecationWarning: from_dict has been deprecated as of qiskit-aer 0.10.0 and will be removed no earlier than 3 months from that release date.\n",
      "  noise_model_fakekolkata = noise.NoiseModel.from_dict(pickle.load(file))\n"
     ]
    }
   ],
   "source": [
    "with open('NoiseModel/fakekolkata.pkl', 'rb') as file:\n",
    "    noise_model_fakekolkata = noise.NoiseModel.from_dict(pickle.load(file))"
   ]
  },
  {
   "cell_type": "code",
   "execution_count": 29,
   "metadata": {
    "id": "S21Wr7j2y9q4"
   },
   "outputs": [
    {
     "data": {
      "text/plain": [
       "<NoiseModel on ['', 'sx', 'x', 'measure', 'id', 'reset', 'cx']>"
      ]
     },
     "execution_count": 29,
     "metadata": {},
     "output_type": "execute_result"
    }
   ],
   "source": [
    "noise_model_fakekolkata"
   ]
  },
  {
   "cell_type": "code",
   "execution_count": 30,
   "metadata": {},
   "outputs": [],
   "source": [
    "estimator_fakekolkata = Estimator(\n",
    "    backend_options = {\n",
    "        # simulation options\n",
    "        'method': 'statevector',\n",
    "        'device': 'CPU',\n",
    "        'max_parallel_threads' : 0,\n",
    "        'max_parallel_shots' : 0,\n",
    "        'statevector_parallel_threshold' : 5,\n",
    "        'coupling_map' : system_model.configuration().coupling_map,\n",
    "        'noise_model': noise_model_fakekolkata # noiseless\n",
    "    },\n",
    "    run_options = {\n",
    "        'shots': shot,\n",
    "        'seed': seeds,\n",
    "    },\n",
    "    transpile_options = {\n",
    "        'seed_transpiler' : seed_transpiler,\n",
    "    },\n",
    "    skip_transpilation=False\n",
    ")"
   ]
  },
  {
   "cell_type": "code",
   "execution_count": 31,
   "metadata": {},
   "outputs": [
    {
     "name": "stdout",
     "output_type": "stream",
     "text": [
      "CPU times: user 6h 54min 24s, sys: 4min 54s, total: 6h 59min 19s\n",
      "Wall time: 5min 31s\n"
     ]
    },
    {
     "data": {
      "text/plain": [
       "array([-76.66606724])"
      ]
     },
     "execution_count": 31,
     "metadata": {},
     "output_type": "execute_result"
    }
   ],
   "source": [
    "%%time\n",
    "\n",
    "job_fakekolkata = estimator_fakekolkata.run(circuit, observable)\n",
    "result_fakekolkata = job_fakekolkata.result()\n",
    "result_fakekolkata.values"
   ]
  },
  {
   "cell_type": "code",
   "execution_count": 32,
   "metadata": {},
   "outputs": [
    {
     "data": {
      "text/plain": [
       "array([2.80485823])"
      ]
     },
     "execution_count": 32,
     "metadata": {},
     "output_type": "execute_result"
    }
   ],
   "source": [
    "get_error_rate(result_fakekolkata.values)"
   ]
  }
 ],
 "metadata": {
  "colab": {
   "provenance": []
  },
  "kernelspec": {
   "display_name": "Python 3 (ipykernel)",
   "language": "python",
   "name": "python3"
  },
  "language_info": {
   "codemirror_mode": {
    "name": "ipython",
    "version": 3
   },
   "file_extension": ".py",
   "mimetype": "text/x-python",
   "name": "python",
   "nbconvert_exporter": "python",
   "pygments_lexer": "ipython3",
   "version": "3.9.18"
  }
 },
 "nbformat": 4,
 "nbformat_minor": 4
}
