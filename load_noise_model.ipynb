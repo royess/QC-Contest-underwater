{
 "cells": [
  {
   "cell_type": "code",
   "execution_count": 1,
   "metadata": {},
   "outputs": [],
   "source": [
    "import qiskit\n",
    "from qiskit.circuit import QuantumCircuit\n",
    "from qiskit.providers.aer.noise import NoiseModel\n",
    "from qiskit_aer import AerSimulator\n",
    "import numpy as np\n",
    "import pandas as pd\n",
    "from mitiq import Executor, MeasurementResult, Observable\n",
    "from cirq import DensityMatrixSimulator, depolarize\n",
    "from mitiq.interface import convert_to_mitiq\n",
    "import mitiq\n",
    "from mitiq import zne, benchmarks, pec\n",
    "from mitiq.pec.representations.depolarizing import represent_operations_in_circuit_with_local_depolarizing_noise\n",
    "\n",
    "import qiskit\n",
    "from qiskit.circuit import QuantumCircuit\n",
    "from qiskit.providers.aer.noise import NoiseModel\n",
    "from qiskit_aer import AerSimulator\n",
    "import numpy as np\n",
    "import pandas as pd\n",
    "from mitiq import Executor, MeasurementResult, Observable\n",
    "from cirq import DensityMatrixSimulator, depolarize\n",
    "from mitiq.interface import convert_to_mitiq\n",
    "import mitiq\n",
    "from mitiq import zne, benchmarks, pec\n",
    "from mitiq.pec.representations import find_optimal_representation\n",
    "from mitiq.pec.representations.depolarizing import represent_operations_in_circuit_with_local_depolarizing_noise\n",
    "from mitiq.pec.channels import kraus_to_super\n",
    "from qiskit.circuit.library import RZGate, SXGate, CXGate\n",
    "from qiskit.circuit.library.generalized_gates import PauliGate\n",
    "from qiskit.extensions import UnitaryGate\n",
    "import time\n",
    "import copy\n",
    "import pdb\n",
    "\n"
   ]
  },
  {
   "cell_type": "code",
   "execution_count": 2,
   "metadata": {},
   "outputs": [],
   "source": [
    "import numpy as np\n",
    "from qiskit import QuantumCircuit, transpile\n",
    "from qiskit.quantum_info import Kraus, SuperOp\n",
    "from qiskit_aer import AerSimulator\n",
    "from qiskit.tools.visualization import plot_histogram\n",
    "\n",
    "# Import from Qiskit Aer noise module\n",
    "from qiskit_aer.noise import (NoiseModel, QuantumError, ReadoutError,\n",
    "    pauli_error, depolarizing_error, thermal_relaxation_error)\n"
   ]
  },
  {
   "cell_type": "code",
   "execution_count": 15,
   "metadata": {},
   "outputs": [
    {
     "name": "stdout",
     "output_type": "stream",
     "text": [
      "NoiseModel:\n",
      "  Basis gates: ['cx', 'id', 'rz', 'sx', 'x']\n",
      "  Instructions with noise: ['', 'rz', 'cx', 'x']\n",
      "  All-qubits errors: ['rz', '', 'x', 'cx']\n",
      "['', 'cx', 'rz', 'x']\n"
     ]
    }
   ],
   "source": [
    "\n",
    "import qiskit_aer.noise as noise\n",
    "\n",
    "# Error probabilities\n",
    "prob_1 = 0.001  # 1-qubit gate\n",
    "prob_2 = 0.01   # 2-qubit gate\n",
    "\n",
    "# Depolarizing quantum errors\n",
    "error_1 = noise.depolarizing_error(prob_1, 1)\n",
    "error_2 = noise.depolarizing_error(prob_2, 2)\n",
    "\n",
    "# Add errors to noise model\n",
    "noise_model = noise.NoiseModel()\n",
    "noise_model.add_all_qubit_quantum_error(error_1, ['rz', '', 'x'])\n",
    "noise_model.add_all_qubit_quantum_error(error_2, ['cx'])\n",
    "print(noise_model)\n",
    "print(noise_model.noise_instructions)"
   ]
  },
  {
   "cell_type": "code",
   "execution_count": 6,
   "metadata": {},
   "outputs": [
    {
     "name": "stderr",
     "output_type": "stream",
     "text": [
      "/tmp/ipykernel_74313/1272081019.py:3: DeprecationWarning: from_dict has been deprecated as of qiskit-aer 0.10.0 and will be removed no earlier than 3 months from that release date.\n",
      "  noise_model = NoiseModel.from_dict(noise_dict)\n"
     ]
    },
    {
     "name": "stdout",
     "output_type": "stream",
     "text": [
      "NoiseModel:\n",
      "  Basis gates: ['cx', 'id', 'rz', 'sx', 'x']\n",
      "  Instructions with noise: ['', 'measure', 'sx', 'reset', 'cx', 'x', 'id']\n",
      "  Qubits with noise: [0, 1, 2, 3, 4, 5, 6, 7, 8, 9, 10, 11, 12, 13, 14, 15, 16, 17, 18, 19, 20, 21, 22, 23, 24, 25, 26]\n",
      "  Specific qubit errors: [('id', (0,)), ('id', (1,)), ('id', (2,)), ('id', (3,)), ('id', (4,)), ('id', (5,)), ('id', (6,)), ('id', (7,)), ('id', (8,)), ('id', (9,)), ('id', (10,)), ('id', (11,)), ('id', (12,)), ('id', (13,)), ('id', (14,)), ('id', (15,)), ('id', (16,)), ('id', (17,)), ('id', (18,)), ('id', (19,)), ('id', (20,)), ('id', (21,)), ('id', (22,)), ('id', (23,)), ('id', (24,)), ('id', (25,)), ('id', (26,)), ('sx', (0,)), ('sx', (1,)), ('sx', (2,)), ('sx', (3,)), ('sx', (4,)), ('sx', (5,)), ('sx', (6,)), ('sx', (7,)), ('sx', (8,)), ('sx', (9,)), ('sx', (10,)), ('sx', (11,)), ('sx', (12,)), ('sx', (13,)), ('sx', (14,)), ('sx', (15,)), ('sx', (16,)), ('sx', (17,)), ('sx', (18,)), ('sx', (19,)), ('sx', (20,)), ('sx', (21,)), ('sx', (22,)), ('sx', (23,)), ('sx', (24,)), ('sx', (25,)), ('sx', (26,)), ('x', (0,)), ('x', (1,)), ('x', (2,)), ('x', (3,)), ('x', (4,)), ('x', (5,)), ('x', (6,)), ('x', (7,)), ('x', (8,)), ('x', (9,)), ('x', (10,)), ('x', (11,)), ('x', (12,)), ('x', (13,)), ('x', (14,)), ('x', (15,)), ('x', (16,)), ('x', (17,)), ('x', (18,)), ('x', (19,)), ('x', (20,)), ('x', (21,)), ('x', (22,)), ('x', (23,)), ('x', (24,)), ('x', (25,)), ('x', (26,)), ('cx', (6, 7)), ('cx', (7, 6)), ('cx', (12, 13)), ('cx', (13, 12)), ('cx', (7, 10)), ('cx', (10, 7)), ('cx', (8, 11)), ('cx', (11, 8)), ('cx', (3, 2)), ('cx', (2, 3)), ('cx', (4, 7)), ('cx', (7, 4)), ('cx', (9, 8)), ('cx', (8, 9)), ('cx', (17, 18)), ('cx', (18, 17)), ('cx', (1, 0)), ('cx', (0, 1)), ('cx', (15, 12)), ('cx', (12, 15)), ('cx', (1, 4)), ('cx', (4, 1)), ('cx', (20, 19)), ('cx', (19, 20)), ('cx', (26, 25)), ('cx', (25, 26)), ('cx', (21, 23)), ('cx', (23, 21)), ('cx', (21, 18)), ('cx', (18, 21)), ('cx', (16, 14)), ('cx', (14, 16)), ('cx', (13, 14)), ('cx', (14, 13)), ('cx', (24, 25)), ('cx', (25, 24)), ('cx', (11, 14)), ('cx', (14, 11)), ('cx', (24, 23)), ('cx', (23, 24)), ('cx', (10, 12)), ('cx', (12, 10)), ('cx', (22, 19)), ('cx', (19, 22)), ('cx', (5, 8)), ('cx', (8, 5)), ('cx', (22, 25)), ('cx', (25, 22)), ('cx', (3, 5)), ('cx', (5, 3)), ('cx', (16, 19)), ('cx', (19, 16)), ('cx', (18, 15)), ('cx', (15, 18)), ('cx', (1, 2)), ('cx', (2, 1)), ('reset', (0,)), ('reset', (1,)), ('reset', (2,)), ('reset', (3,)), ('reset', (4,)), ('reset', (5,)), ('reset', (6,)), ('reset', (7,)), ('reset', (8,)), ('reset', (9,)), ('reset', (10,)), ('reset', (11,)), ('reset', (12,)), ('reset', (13,)), ('reset', (14,)), ('reset', (15,)), ('reset', (16,)), ('reset', (17,)), ('reset', (18,)), ('reset', (19,)), ('reset', (20,)), ('reset', (21,)), ('reset', (22,)), ('reset', (23,)), ('reset', (24,)), ('reset', (25,)), ('reset', (26,)), ('', (0,)), ('', (1,)), ('', (2,)), ('', (3,)), ('', (4,)), ('', (5,)), ('', (6,)), ('', (7,)), ('', (8,)), ('', (9,)), ('', (10,)), ('', (11,)), ('', (12,)), ('', (13,)), ('', (14,)), ('', (15,)), ('', (16,)), ('', (17,)), ('', (18,)), ('', (19,)), ('', (20,)), ('', (21,)), ('', (22,)), ('', (23,)), ('', (24,)), ('', (25,)), ('', (26,)), ('measure', (0,)), ('measure', (1,)), ('measure', (2,)), ('measure', (3,)), ('measure', (4,)), ('measure', (5,)), ('measure', (6,)), ('measure', (7,)), ('measure', (8,)), ('measure', (9,)), ('measure', (10,)), ('measure', (11,)), ('measure', (12,)), ('measure', (13,)), ('measure', (14,)), ('measure', (15,)), ('measure', (16,)), ('measure', (17,)), ('measure', (18,)), ('measure', (19,)), ('measure', (20,)), ('measure', (21,)), ('measure', (22,)), ('measure', (23,)), ('measure', (24,)), ('measure', (25,)), ('measure', (26,))]\n"
     ]
    }
   ],
   "source": [
    "noise_dict = pd.read_pickle('./NoiseModel/fakecairo.pkl')\n",
    "# Load the noise model from the dictionary\n",
    "noise_model = NoiseModel.from_dict(noise_dict)\n",
    "print(noise_model)"
   ]
  },
  {
   "cell_type": "code",
   "execution_count": 7,
   "metadata": {},
   "outputs": [
    {
     "name": "stdout",
     "output_type": "stream",
     "text": [
      "[(6, 7), (7, 6), (12, 13), (13, 12), (7, 10), (10, 7), (8, 11), (11, 8), (3, 2), (2, 3), (4, 7), (7, 4), (9, 8), (8, 9), (17, 18), (18, 17), (1, 0), (0, 1), (15, 12), (12, 15), (1, 4), (4, 1), (20, 19), (19, 20), (26, 25), (25, 26), (21, 23), (23, 21), (21, 18), (18, 21), (16, 14), (14, 16), (13, 14), (14, 13), (24, 25), (25, 24), (11, 14), (14, 11), (24, 23), (23, 24), (10, 12), (12, 10), (22, 19), (19, 22), (5, 8), (8, 5), (22, 25), (25, 22), (3, 5), (5, 3), (16, 19), (19, 16), (18, 15), (15, 18), (1, 2), (2, 1)]\n"
     ]
    }
   ],
   "source": [
    "two_graphs = [] # the map for cx\n",
    "\n",
    "for noise in noise_dict['errors']:\n",
    "\n",
    "    if len(noise['gate_qubits'][0])==2:\n",
    "        two_graphs.append(noise['gate_qubits'][0])\n",
    "\n",
    "print(two_graphs)"
   ]
  },
  {
   "cell_type": "code",
   "execution_count": 8,
   "metadata": {},
   "outputs": [],
   "source": [
    "def execute_with_qiskit_noise(\n",
    "    circuit: QuantumCircuit,\n",
    "    noise_model: NoiseModel,\n",
    "    shots=1,\n",
    "    ideal = False\n",
    "):\n",
    "    qc = circuit.copy()\n",
    "    qc.save_density_matrix()\n",
    "    basis_gates = noise_model.basis_gates + [\"save_density_matrix\"]\n",
    "    if(ideal):\n",
    "        job = qiskit.execute(\n",
    "            qc,\n",
    "            backend=AerSimulator(),\n",
    "            optimization_level=0,\n",
    "            shots=shots\n",
    "        )\n",
    "    else:\n",
    "        job = qiskit.execute(\n",
    "            qc,\n",
    "            backend=AerSimulator(method = \"density_matrix\", noise_model = noise_model),\n",
    "            basis_gates=basis_gates,\n",
    "            optimization_level=0,\n",
    "            shots=shots\n",
    "        )\n",
    "    rho = job.result().data()[\"density_matrix\"]\n",
    "    return rho\n",
    "    "
   ]
  },
  {
   "cell_type": "code",
   "execution_count": 13,
   "metadata": {},
   "outputs": [
    {
     "name": "stderr",
     "output_type": "stream",
     "text": [
      "/tmp/ipykernel_74313/2883496640.py:10: DeprecationWarning: The return type of saved density matrices has been changed from a `numpy.ndarray` to a `qiskit.quantum_info.DensityMatrix` as of qiskit-aer 0.10. Accessing numpy array attributes is deprecated and will result in an error in a future release. To continue using saved result objects as arrays you can explicitly cast them using  `np.asarray(object)`.\n",
      "  print(noisy_value[0].shape)\n"
     ]
    },
    {
     "name": "stdout",
     "output_type": "stream",
     "text": [
      "(4096,)\n",
      "(4096,)\n"
     ]
    },
    {
     "ename": "TypeError",
     "evalue": "bad operand type for abs(): 'DensityMatrix'",
     "output_type": "error",
     "traceback": [
      "\u001b[0;31m---------------------------------------------------------------------------\u001b[0m",
      "\u001b[0;31mTypeError\u001b[0m                                 Traceback (most recent call last)",
      "\u001b[1;32m/home/muzhou/codes/QC-Contest-underwater/load_noise_model.ipynb Cell 7\u001b[0m line \u001b[0;36m1\n\u001b[1;32m     <a href='vscode-notebook-cell://ssh-remote%2B7b22686f73744e616d65223a225175616e74756d5f31227d/home/muzhou/codes/QC-Contest-underwater/load_noise_model.ipynb#W5sdnNjb2RlLXJlbW90ZQ%3D%3D?line=11'>12</a>\u001b[0m     ideal_value \u001b[39m=\u001b[39m execute_with_qiskit_noise(qc,noise_model,\u001b[39m1\u001b[39m,\u001b[39mTrue\u001b[39;00m)\n\u001b[1;32m     <a href='vscode-notebook-cell://ssh-remote%2B7b22686f73744e616d65223a225175616e74756d5f31227d/home/muzhou/codes/QC-Contest-underwater/load_noise_model.ipynb#W5sdnNjb2RlLXJlbW90ZQ%3D%3D?line=12'>13</a>\u001b[0m     ideal_out\u001b[39m.\u001b[39mappend(ideal_value)\n\u001b[0;32m---> <a href='vscode-notebook-cell://ssh-remote%2B7b22686f73744e616d65223a225175616e74756d5f31227d/home/muzhou/codes/QC-Contest-underwater/load_noise_model.ipynb#W5sdnNjb2RlLXJlbW90ZQ%3D%3D?line=14'>15</a>\u001b[0m delta_noise \u001b[39m=\u001b[39m \u001b[39msum\u001b[39m(\u001b[39msum\u001b[39m(\u001b[39mabs\u001b[39;49m(density_matrix_out[\u001b[39m0\u001b[39;49m]\u001b[39m-\u001b[39;49mdensity_matrix_out[\u001b[39m1\u001b[39;49m])))\n\u001b[1;32m     <a href='vscode-notebook-cell://ssh-remote%2B7b22686f73744e616d65223a225175616e74756d5f31227d/home/muzhou/codes/QC-Contest-underwater/load_noise_model.ipynb#W5sdnNjb2RlLXJlbW90ZQ%3D%3D?line=15'>16</a>\u001b[0m delta_ideal \u001b[39m=\u001b[39m \u001b[39msum\u001b[39m(\u001b[39msum\u001b[39m(\u001b[39mabs\u001b[39m(ideal_value[\u001b[39m0\u001b[39m]\u001b[39m-\u001b[39mideal_value[\u001b[39m1\u001b[39m])))\n\u001b[1;32m     <a href='vscode-notebook-cell://ssh-remote%2B7b22686f73744e616d65223a225175616e74756d5f31227d/home/muzhou/codes/QC-Contest-underwater/load_noise_model.ipynb#W5sdnNjb2RlLXJlbW90ZQ%3D%3D?line=17'>18</a>\u001b[0m \u001b[39mprint\u001b[39m(delta_noise)\n",
      "\u001b[0;31mTypeError\u001b[0m: bad operand type for abs(): 'DensityMatrix'"
     ]
    }
   ],
   "source": [
    "density_matrix_out = []\n",
    "ideal_out = []\n",
    "for pair in [0,1]:\n",
    "    qc = QuantumCircuit(12)\n",
    "    for i in range(12):\n",
    "        qc.h(i)\n",
    "    \n",
    "    qc.cx(two_graphs[0][0], two_graphs[0][1])\n",
    "    noisy_value = execute_with_qiskit_noise(qc,noise_model,1,False)\n",
    "    print(noisy_value[0].shape)\n",
    "    density_matrix_out.append(noisy_value)\n",
    "    ideal_value = execute_with_qiskit_noise(qc,noise_model,1,True)\n",
    "    ideal_out.append(ideal_value)\n",
    "    \n",
    "delta_noise = sum(sum(abs(density_matrix_out[0]-density_matrix_out[1])))\n",
    "delta_ideal = sum(sum(abs(ideal_value[0]-ideal_value[1])))\n",
    "\n",
    "print(delta_noise)\n",
    "print(delta_ideal)"
   ]
  },
  {
   "cell_type": "code",
   "execution_count": 6,
   "metadata": {},
   "outputs": [
    {
     "name": "stdout",
     "output_type": "stream",
     "text": [
      "24 OperationRepresentation_1 objects produced, assuming 1.0% depolarizing noise.\n"
     ]
    },
    {
     "name": "stderr",
     "output_type": "stream",
     "text": [
      "/tmp/ipykernel_3299780/2825760794.py:26: DeprecationWarning: The return type of saved density matrices has been changed from a `numpy.ndarray` to a `qiskit.quantum_info.DensityMatrix` as of qiskit-aer 0.10. Accessing numpy array attributes is deprecated and will result in an error in a future release. To continue using saved result objects as arrays you can explicitly cast them using  `np.asarray(object)`.\n",
      "  return rho[0,0].real\n"
     ]
    },
    {
     "ename": "TypeError",
     "evalue": "unsupported callable",
     "output_type": "error",
     "traceback": [
      "\u001b[0;31m---------------------------------------------------------------------------\u001b[0m",
      "\u001b[0;31mTypeError\u001b[0m                                 Traceback (most recent call last)",
      "File \u001b[0;32m~/anaconda3/envs/quantum/lib/python3.10/inspect.py:1277\u001b[0m, in \u001b[0;36mgetfullargspec\u001b[0;34m(func)\u001b[0m\n\u001b[1;32m   1260\u001b[0m \u001b[39mtry\u001b[39;00m:\n\u001b[1;32m   1261\u001b[0m     \u001b[39m# Re: `skip_bound_arg=False`\u001b[39;00m\n\u001b[1;32m   1262\u001b[0m     \u001b[39m#\u001b[39;00m\n\u001b[0;32m   (...)\u001b[0m\n\u001b[1;32m   1274\u001b[0m     \u001b[39m# getfullargspec() historically ignored __wrapped__ attributes,\u001b[39;00m\n\u001b[1;32m   1275\u001b[0m     \u001b[39m# so we ensure that remains the case in 3.3+\u001b[39;00m\n\u001b[0;32m-> 1277\u001b[0m     sig \u001b[39m=\u001b[39m _signature_from_callable(func,\n\u001b[1;32m   1278\u001b[0m                                    follow_wrapper_chains\u001b[39m=\u001b[39;49m\u001b[39mFalse\u001b[39;49;00m,\n\u001b[1;32m   1279\u001b[0m                                    skip_bound_arg\u001b[39m=\u001b[39;49m\u001b[39mFalse\u001b[39;49;00m,\n\u001b[1;32m   1280\u001b[0m                                    sigcls\u001b[39m=\u001b[39;49mSignature,\n\u001b[1;32m   1281\u001b[0m                                    eval_str\u001b[39m=\u001b[39;49m\u001b[39mFalse\u001b[39;49;00m)\n\u001b[1;32m   1282\u001b[0m \u001b[39mexcept\u001b[39;00m \u001b[39mException\u001b[39;00m \u001b[39mas\u001b[39;00m ex:\n\u001b[1;32m   1283\u001b[0m     \u001b[39m# Most of the times 'signature' will raise ValueError.\u001b[39;00m\n\u001b[1;32m   1284\u001b[0m     \u001b[39m# But, it can also raise AttributeError, and, maybe something\u001b[39;00m\n\u001b[1;32m   1285\u001b[0m     \u001b[39m# else. So to be fully backwards compatible, we catch all\u001b[39;00m\n\u001b[1;32m   1286\u001b[0m     \u001b[39m# possible exceptions here, and reraise a TypeError.\u001b[39;00m\n",
      "File \u001b[0;32m~/anaconda3/envs/quantum/lib/python3.10/inspect.py:2396\u001b[0m, in \u001b[0;36m_signature_from_callable\u001b[0;34m(obj, follow_wrapper_chains, skip_bound_arg, globals, locals, eval_str, sigcls)\u001b[0m\n\u001b[1;32m   2395\u001b[0m \u001b[39mif\u001b[39;00m \u001b[39mnot\u001b[39;00m \u001b[39mcallable\u001b[39m(obj):\n\u001b[0;32m-> 2396\u001b[0m     \u001b[39mraise\u001b[39;00m \u001b[39mTypeError\u001b[39;00m(\u001b[39m'\u001b[39m\u001b[39m{!r}\u001b[39;00m\u001b[39m is not a callable object\u001b[39m\u001b[39m'\u001b[39m\u001b[39m.\u001b[39mformat(obj))\n\u001b[1;32m   2398\u001b[0m \u001b[39mif\u001b[39;00m \u001b[39misinstance\u001b[39m(obj, types\u001b[39m.\u001b[39mMethodType):\n\u001b[1;32m   2399\u001b[0m     \u001b[39m# In this case we skip the first parameter of the underlying\u001b[39;00m\n\u001b[1;32m   2400\u001b[0m     \u001b[39m# function (usually `self` or `cls`).\u001b[39;00m\n",
      "\u001b[0;31mTypeError\u001b[0m: 0.9837828954117973 is not a callable object",
      "\nThe above exception was the direct cause of the following exception:\n",
      "\u001b[0;31mTypeError\u001b[0m                                 Traceback (most recent call last)",
      "\u001b[1;32m/home/muzhou/codes/QC-Contest-Demo/load_noise_model.ipynb Cell 5\u001b[0m line \u001b[0;36m5\n\u001b[1;32m      <a href='vscode-notebook-cell://ssh-remote%2B7b22686f73744e616d65223a225175616e74756d227d/home/muzhou/codes/QC-Contest-Demo/load_noise_model.ipynb#W4sdnNjb2RlLXJlbW90ZQ%3D%3D?line=1'>2</a>\u001b[0m reps_1 \u001b[39m=\u001b[39m represent_operations_in_circuit_with_local_depolarizing_noise(qc,noise_level_1)\n\u001b[1;32m      <a href='vscode-notebook-cell://ssh-remote%2B7b22686f73744e616d65223a225175616e74756d227d/home/muzhou/codes/QC-Contest-Demo/load_noise_model.ipynb#W4sdnNjb2RlLXJlbW90ZQ%3D%3D?line=2'>3</a>\u001b[0m \u001b[39mprint\u001b[39m(\u001b[39mf\u001b[39m\u001b[39m\"\u001b[39m\u001b[39m{\u001b[39;00m\u001b[39mlen\u001b[39m(reps_1)\u001b[39m}\u001b[39;00m\u001b[39m OperationRepresentation_1 objects produced, assuming \u001b[39m\u001b[39m{\u001b[39;00m\u001b[39m100\u001b[39m\u001b[39m \u001b[39m\u001b[39m*\u001b[39m\u001b[39m \u001b[39mnoise_level_1\u001b[39m}\u001b[39;00m\u001b[39m% depolarizing noise.\u001b[39m\u001b[39m\"\u001b[39m)\n\u001b[0;32m----> <a href='vscode-notebook-cell://ssh-remote%2B7b22686f73744e616d65223a225175616e74756d227d/home/muzhou/codes/QC-Contest-Demo/load_noise_model.ipynb#W4sdnNjb2RlLXJlbW90ZQ%3D%3D?line=4'>5</a>\u001b[0m pec_value_1 \u001b[39m=\u001b[39m pec\u001b[39m.\u001b[39;49mexecute_with_pec(qc,execute_with_qiskit_noise(qc,noise_model,\u001b[39m1\u001b[39;49m,\u001b[39mFalse\u001b[39;49;00m),representations\u001b[39m=\u001b[39;49mreps_1)\n\u001b[1;32m      <a href='vscode-notebook-cell://ssh-remote%2B7b22686f73744e616d65223a225175616e74756d227d/home/muzhou/codes/QC-Contest-Demo/load_noise_model.ipynb#W4sdnNjb2RlLXJlbW90ZQ%3D%3D?line=5'>6</a>\u001b[0m \u001b[39mprint\u001b[39m(\u001b[39mf\u001b[39m\u001b[39m\"\u001b[39m\u001b[39mError without PEC:                     \u001b[39m\u001b[39m{\u001b[39;00m\u001b[39mabs\u001b[39m(ideal_value\u001b[39m \u001b[39m\u001b[39m-\u001b[39m\u001b[39m \u001b[39mnoisy_value)\u001b[39m \u001b[39m\u001b[39m:\u001b[39;00m\u001b[39m.5f\u001b[39m\u001b[39m}\u001b[39;00m\u001b[39m\"\u001b[39m)\n\u001b[1;32m      <a href='vscode-notebook-cell://ssh-remote%2B7b22686f73744e616d65223a225175616e74756d227d/home/muzhou/codes/QC-Contest-Demo/load_noise_model.ipynb#W4sdnNjb2RlLXJlbW90ZQ%3D%3D?line=6'>7</a>\u001b[0m \u001b[39mprint\u001b[39m(\u001b[39mf\u001b[39m\u001b[39m\"\u001b[39m\u001b[39mError with PEC(correct noise level):   \u001b[39m\u001b[39m{\u001b[39;00m\u001b[39mabs\u001b[39m(ideal_value\u001b[39m \u001b[39m\u001b[39m-\u001b[39m\u001b[39m \u001b[39mpec_value_1)\u001b[39m \u001b[39m\u001b[39m:\u001b[39;00m\u001b[39m.5f\u001b[39m\u001b[39m}\u001b[39;00m\u001b[39m\"\u001b[39m)\n",
      "File \u001b[0;32m~/anaconda3/envs/quantum/lib/python3.10/site-packages/mitiq/pec/pec.py:135\u001b[0m, in \u001b[0;36mexecute_with_pec\u001b[0;34m(circuit, executor, observable, representations, precision, num_samples, force_run_all, random_state, full_output)\u001b[0m\n\u001b[1;32m    133\u001b[0m \u001b[39m# Execute all sampled circuits\u001b[39;00m\n\u001b[1;32m    134\u001b[0m \u001b[39mif\u001b[39;00m \u001b[39mnot\u001b[39;00m \u001b[39misinstance\u001b[39m(executor, Executor):\n\u001b[0;32m--> 135\u001b[0m     executor \u001b[39m=\u001b[39m Executor(executor)\n\u001b[1;32m    137\u001b[0m results \u001b[39m=\u001b[39m executor\u001b[39m.\u001b[39mevaluate(sampled_circuits, observable, force_run_all)\n\u001b[1;32m    139\u001b[0m \u001b[39m# Evaluate unbiased estimators [Temme2017] [Endo2018] [Takagi2020]\u001b[39;00m\n",
      "File \u001b[0;32m~/anaconda3/envs/quantum/lib/python3.10/site-packages/mitiq/executor/executor.py:78\u001b[0m, in \u001b[0;36mExecutor.__init__\u001b[0;34m(self, executor, max_batch_size)\u001b[0m\n\u001b[1;32m     67\u001b[0m \u001b[39m\u001b[39m\u001b[39m\"\"\"Initializes an Executor.\u001b[39;00m\n\u001b[1;32m     68\u001b[0m \n\u001b[1;32m     69\u001b[0m \u001b[39mArgs:\u001b[39;00m\n\u001b[0;32m   (...)\u001b[0m\n\u001b[1;32m     74\u001b[0m \u001b[39m        single batch (if the executor is batched).\u001b[39;00m\n\u001b[1;32m     75\u001b[0m \u001b[39m\"\"\"\u001b[39;00m\n\u001b[1;32m     76\u001b[0m \u001b[39mself\u001b[39m\u001b[39m.\u001b[39m_executor \u001b[39m=\u001b[39m executor\n\u001b[0;32m---> 78\u001b[0m executor_annotation \u001b[39m=\u001b[39m inspect\u001b[39m.\u001b[39;49mgetfullargspec(executor)\u001b[39m.\u001b[39mannotations\n\u001b[1;32m     79\u001b[0m \u001b[39mself\u001b[39m\u001b[39m.\u001b[39m_executor_return_type \u001b[39m=\u001b[39m executor_annotation\u001b[39m.\u001b[39mget(\u001b[39m\"\u001b[39m\u001b[39mreturn\u001b[39m\u001b[39m\"\u001b[39m)\n\u001b[1;32m     80\u001b[0m \u001b[39mself\u001b[39m\u001b[39m.\u001b[39m_max_batch_size \u001b[39m=\u001b[39m max_batch_size\n",
      "File \u001b[0;32m~/anaconda3/envs/quantum/lib/python3.10/inspect.py:1287\u001b[0m, in \u001b[0;36mgetfullargspec\u001b[0;34m(func)\u001b[0m\n\u001b[1;32m   1277\u001b[0m     sig \u001b[39m=\u001b[39m _signature_from_callable(func,\n\u001b[1;32m   1278\u001b[0m                                    follow_wrapper_chains\u001b[39m=\u001b[39m\u001b[39mFalse\u001b[39;00m,\n\u001b[1;32m   1279\u001b[0m                                    skip_bound_arg\u001b[39m=\u001b[39m\u001b[39mFalse\u001b[39;00m,\n\u001b[1;32m   1280\u001b[0m                                    sigcls\u001b[39m=\u001b[39mSignature,\n\u001b[1;32m   1281\u001b[0m                                    eval_str\u001b[39m=\u001b[39m\u001b[39mFalse\u001b[39;00m)\n\u001b[1;32m   1282\u001b[0m \u001b[39mexcept\u001b[39;00m \u001b[39mException\u001b[39;00m \u001b[39mas\u001b[39;00m ex:\n\u001b[1;32m   1283\u001b[0m     \u001b[39m# Most of the times 'signature' will raise ValueError.\u001b[39;00m\n\u001b[1;32m   1284\u001b[0m     \u001b[39m# But, it can also raise AttributeError, and, maybe something\u001b[39;00m\n\u001b[1;32m   1285\u001b[0m     \u001b[39m# else. So to be fully backwards compatible, we catch all\u001b[39;00m\n\u001b[1;32m   1286\u001b[0m     \u001b[39m# possible exceptions here, and reraise a TypeError.\u001b[39;00m\n\u001b[0;32m-> 1287\u001b[0m     \u001b[39mraise\u001b[39;00m \u001b[39mTypeError\u001b[39;00m(\u001b[39m'\u001b[39m\u001b[39munsupported callable\u001b[39m\u001b[39m'\u001b[39m) \u001b[39mfrom\u001b[39;00m \u001b[39mex\u001b[39;00m\n\u001b[1;32m   1289\u001b[0m args \u001b[39m=\u001b[39m []\n\u001b[1;32m   1290\u001b[0m varargs \u001b[39m=\u001b[39m \u001b[39mNone\u001b[39;00m\n",
      "\u001b[0;31mTypeError\u001b[0m: unsupported callable"
     ]
    }
   ],
   "source": [
    "noise_level_1 = 0.01\n",
    "reps_1 = represent_operations_in_circuit_with_local_depolarizing_noise(qc,noise_level_1)\n",
    "print(f\"{len(reps_1)} OperationRepresentation_1 objects produced, assuming {100 * noise_level_1}% depolarizing noise.\")\n",
    "\n",
    "pec_value_1 = pec.execute_with_pec(qc,execute_with_qiskit_noise(qc,noise_model,1,False),representations=reps_1)\n",
    "print(f\"Error without PEC:                     {abs(ideal_value - noisy_value) :.5f}\")\n",
    "print(f\"Error with PEC(correct noise level):   {abs(ideal_value - pec_value_1) :.5f}\")"
   ]
  },
  {
   "cell_type": "code",
   "execution_count": 4,
   "metadata": {},
   "outputs": [
    {
     "name": "stdout",
     "output_type": "stream",
     "text": [
      "   ┌───┐\n",
      "q: ┤ H ├\n",
      "   └───┘\n",
      "   ┌───┐┌───┐\n",
      "q: ┤ H ├┤ X ├\n",
      "   └───┘└───┘\n",
      "   ┌───┐┌───┐\n",
      "q: ┤ H ├┤ Y ├\n",
      "   └───┘└───┘\n",
      "   ┌───┐┌───┐\n",
      "q: ┤ H ├┤ Z ├\n",
      "   └───┘└───┘\n",
      "4 NoisyOperation objects defined.\n",
      "[<mitiq.pec.types.types.NoisyOperation object at 0x7f4f5026f9a0>, <mitiq.pec.types.types.NoisyOperation object at 0x7f4e658bae30>, <mitiq.pec.types.types.NoisyOperation object at 0x7f4e67937a30>, <mitiq.pec.types.types.NoisyOperation object at 0x7f4e6588e3b0>]\n",
      "[array([[ 0.5       +0.j,  0.36666667+0.j,  0.36666667+0.j,\n",
      "         0.5       +0.j],\n",
      "       [ 0.36666667+0.j, -0.36666667+0.j,  0.36666667+0.j,\n",
      "        -0.36666667+0.j],\n",
      "       [ 0.36666667+0.j,  0.36666667+0.j, -0.36666667+0.j,\n",
      "        -0.36666667+0.j],\n",
      "       [ 0.5       +0.j, -0.36666667+0.j, -0.36666667+0.j,\n",
      "         0.5       +0.j]]), array([[ 0.5       +0.j, -0.36666667+0.j, -0.36666667+0.j,\n",
      "         0.5       +0.j],\n",
      "       [ 0.36666667+0.j,  0.36666667+0.j, -0.36666667+0.j,\n",
      "        -0.36666667+0.j],\n",
      "       [ 0.36666667+0.j, -0.36666667+0.j,  0.36666667+0.j,\n",
      "        -0.36666667+0.j],\n",
      "       [ 0.5       +0.j,  0.36666667+0.j,  0.36666667+0.j,\n",
      "         0.5       +0.j]]), array([[ 0.5       +0.j, -0.36666667+0.j, -0.36666667+0.j,\n",
      "         0.5       +0.j],\n",
      "       [-0.36666667+0.j, -0.36666667+0.j,  0.36666667+0.j,\n",
      "         0.36666667+0.j],\n",
      "       [-0.36666667+0.j,  0.36666667+0.j, -0.36666667+0.j,\n",
      "         0.36666667+0.j],\n",
      "       [ 0.5       +0.j,  0.36666667+0.j,  0.36666667+0.j,\n",
      "         0.5       +0.j]]), array([[ 0.5       +0.j,  0.36666667+0.j,  0.36666667+0.j,\n",
      "         0.5       +0.j],\n",
      "       [-0.36666667+0.j,  0.36666667+0.j, -0.36666667+0.j,\n",
      "         0.36666667+0.j],\n",
      "       [-0.36666667+0.j, -0.36666667+0.j,  0.36666667+0.j,\n",
      "         0.36666667+0.j],\n",
      "       [ 0.5       +0.j, -0.36666667+0.j, -0.36666667+0.j,\n",
      "         0.5       +0.j]])]\n"
     ]
    }
   ],
   "source": [
    "from mitiq.pec.representations import local_depolarizing_kraus\n",
    "from mitiq.pec.channels import kraus_to_super\n",
    "import qiskit\n",
    "from qiskit.circuit import QuantumCircuit\n",
    "from qiskit.providers.aer.noise import NoiseModel\n",
    "from qiskit_aer import AerSimulator\n",
    "import numpy as np\n",
    "import pandas as pd\n",
    "from mitiq import Executor, MeasurementResult, Observable\n",
    "from cirq import DensityMatrixSimulator, depolarize\n",
    "from mitiq.interface import convert_to_mitiq\n",
    "import mitiq\n",
    "from mitiq import zne, benchmarks, pec\n",
    "from mitiq.pec.representations.depolarizing import represent_operations_in_circuit_with_local_depolarizing_noise\n",
    "\n",
    "\n",
    "basis_circuit_h = qiskit.QuantumCircuit(1)\n",
    "basis_circuit_h.h(0)\n",
    "\n",
    "basis_circuit_hx = qiskit.QuantumCircuit(1)\n",
    "basis_circuit_hx.h(0)\n",
    "basis_circuit_hx.x(0)\n",
    "\n",
    "basis_circuit_hy = qiskit.QuantumCircuit(1)\n",
    "basis_circuit_hy.h(0)\n",
    "basis_circuit_hy.y(0)\n",
    "\n",
    "basis_circuit_hz = qiskit.QuantumCircuit(1)\n",
    "basis_circuit_hz.h(0)\n",
    "basis_circuit_hz.z(0)\n",
    "\n",
    "basis_circuits = [basis_circuit_h, basis_circuit_hx, basis_circuit_hy, basis_circuit_hz] \n",
    "\n",
    "for c in basis_circuits:\n",
    "    print(c)\n",
    "    \n",
    "    \n",
    "# Compute depolarizing superoperator\n",
    "BASE_NOISE = 0.2\n",
    "depo_super = kraus_to_super(local_depolarizing_kraus(BASE_NOISE, num_qubits=1))\n",
    "\n",
    "# Define the superoperator matrix of each noisy operation\n",
    "super_matrices = [\n",
    "    depo_super @ kraus_to_super([qiskit.quantum_info.Operator(c).data]) \n",
    "    for c in basis_circuits\n",
    "] \n",
    "\n",
    "# Define NoisyOperation objects combining circuits with channel matrices\n",
    "noisy_operations = [\n",
    "    pec.NoisyOperation(circuit=c, channel_matrix=m)\n",
    "    for c, m in zip(basis_circuits, super_matrices)\n",
    "]\n",
    "\n",
    "print(f\"{len(noisy_operations)} NoisyOperation objects defined.\")\n",
    "print(noisy_operations)\n",
    "print(super_matrices)"
   ]
  },
  {
   "cell_type": "code",
   "execution_count": 3,
   "metadata": {},
   "outputs": [],
   "source": [
    "import numpy as np\n",
    "def standard_gate_unitary(name):\n",
    "    # To be removed with from_dict\n",
    "    unitary_matrices = {\n",
    "        (\"id\", \"I\"): np.eye(2, dtype=complex),\n",
    "        (\"x\", \"X\"): np.array([[0, 1], [1, 0]], dtype=complex),\n",
    "        (\"y\", \"Y\"): np.array([[0, -1j], [1j, 0]], dtype=complex),\n",
    "        (\"z\", \"Z\"): np.array([[1, 0], [0, -1]], dtype=complex),\n",
    "        (\"h\", \"H\"): np.array([[1, 1], [1, -1]], dtype=complex) / np.sqrt(2),\n",
    "        (\"s\", \"S\"): np.array([[1, 0], [0, 1j]], dtype=complex),\n",
    "        (\"sdg\", \"Sdg\"): np.array([[1, 0], [0, -1j]], dtype=complex),\n",
    "        (\"t\", \"T\"): np.array([[1, 0], [0, np.exp(1j * np.pi / 4)]], dtype=complex),\n",
    "        (\"tdg\", \"Tdg\"): np.array([[1, 0], [0, np.exp(-1j * np.pi / 4)]], dtype=complex),\n",
    "        (\"cx\", \"CX\", \"cx_01\"): np.array(\n",
    "            [[1, 0, 0, 0], [0, 0, 0, 1], [0, 0, 1, 0], [0, 1, 0, 0]], dtype=complex\n",
    "        ),\n",
    "        (\"cx_10\",): np.array(\n",
    "            [[1, 0, 0, 0], [0, 0, 0, 1], [0, 0, 1, 0], [0, 1, 0, 0]], dtype=complex\n",
    "        ),\n",
    "        (\"cz\", \"CZ\"): np.array(\n",
    "            [[1, 0, 0, 0], [0, 1, 0, 0], [0, 0, 1, 0], [0, 0, 0, -1]], dtype=complex\n",
    "        ),\n",
    "        (\"swap\", \"SWAP\"): np.array(\n",
    "            [[1, 0, 0, 0], [0, 0, 1, 0], [0, 1, 0, 0], [0, 0, 0, 1]], dtype=complex\n",
    "        ),\n",
    "        (\"ccx\", \"CCX\", \"ccx_012\", \"ccx_102\"): np.array(\n",
    "            [\n",
    "                [1, 0, 0, 0, 0, 0, 0, 0],\n",
    "                [0, 1, 0, 0, 0, 0, 0, 0],\n",
    "                [0, 0, 1, 0, 0, 0, 0, 0],\n",
    "                [0, 0, 0, 0, 0, 0, 0, 1],\n",
    "                [0, 0, 0, 0, 1, 0, 0, 0],\n",
    "                [0, 0, 0, 0, 0, 1, 0, 0],\n",
    "                [0, 0, 0, 0, 0, 0, 1, 0],\n",
    "                [0, 0, 0, 1, 0, 0, 0, 0],\n",
    "            ],\n",
    "            dtype=complex,\n",
    "        ),\n",
    "        (\"ccx_021\", \"ccx_201\"): np.array(\n",
    "            [\n",
    "                [1, 0, 0, 0, 0, 0, 0, 0],\n",
    "                [0, 1, 0, 0, 0, 0, 0, 0],\n",
    "                [0, 0, 1, 0, 0, 0, 0, 0],\n",
    "                [0, 0, 0, 1, 0, 0, 0, 0],\n",
    "                [0, 0, 0, 0, 1, 0, 0, 0],\n",
    "                [0, 0, 0, 0, 0, 0, 0, 1],\n",
    "                [0, 0, 0, 0, 0, 0, 1, 0],\n",
    "                [0, 0, 0, 0, 0, 1, 0, 0],\n",
    "            ],\n",
    "            dtype=complex,\n",
    "        ),\n",
    "        (\"ccx_120\", \"ccx_210\"): np.array(\n",
    "            [\n",
    "                [1, 0, 0, 0, 0, 0, 0, 0],\n",
    "                [0, 1, 0, 0, 0, 0, 0, 0],\n",
    "                [0, 0, 1, 0, 0, 0, 0, 0],\n",
    "                [0, 0, 0, 1, 0, 0, 0, 0],\n",
    "                [0, 0, 0, 0, 1, 0, 0, 0],\n",
    "                [0, 0, 0, 0, 0, 1, 0, 0],\n",
    "                [0, 0, 0, 0, 0, 0, 0, 1],\n",
    "                [0, 0, 0, 0, 0, 0, 1, 0],\n",
    "            ],\n",
    "            dtype=complex,\n",
    "        ),\n",
    "    }\n",
    "\n",
    "    return next((value for key, value in unitary_matrices.items() if name in key), None)"
   ]
  },
  {
   "cell_type": "code",
   "execution_count": 11,
   "metadata": {},
   "outputs": [
    {
     "data": {
      "text/plain": [
       "True"
      ]
     },
     "execution_count": 11,
     "metadata": {},
     "output_type": "execute_result"
    }
   ],
   "source": [
    "a = []\n",
    "a.append(standard_gate_unitary('abc')) if (standard_gate_unitary('abc') != None)\n",
    "a.append('1')\n",
    "a\n",
    "a[0]==None"
   ]
  },
  {
   "cell_type": "code",
   "execution_count": 4,
   "metadata": {},
   "outputs": [
    {
     "name": "stdout",
     "output_type": "stream",
     "text": [
      "[[0.99875026-0.04997917j 0.        +0.j        ]\n",
      " [0.        +0.j         0.99875026+0.04997917j]]\n"
     ]
    }
   ],
   "source": [
    "from qiskit.circuit.library import RZGate\n",
    "\n",
    "print(RZGate(0.1).to_matrix())"
   ]
  },
  {
   "cell_type": "code",
   "execution_count": 1,
   "metadata": {},
   "outputs": [
    {
     "data": {
      "text/html": [
       "<pre style=\"word-wrap: normal;white-space: pre;background: #fff0;line-height: 1.1;font-family: &quot;Courier New&quot;,Courier,monospace\">   ┌───┐     ┌───┐\n",
       "q: ┤ X ├─|0>─┤ Y ├\n",
       "   └───┘     └───┘</pre>"
      ],
      "text/plain": [
       "   ┌───┐     ┌───┐\n",
       "q: ┤ X ├─|0>─┤ Y ├\n",
       "   └───┘     └───┘"
      ]
     },
     "execution_count": 1,
     "metadata": {},
     "output_type": "execute_result"
    }
   ],
   "source": [
    "from qiskit.circuit import QuantumCircuit\n",
    "qc = QuantumCircuit(1)\n",
    "qc.x(0)\n",
    "qc.reset(0)\n",
    "qc.y(0)\n",
    "qc.draw()"
   ]
  },
  {
   "cell_type": "code",
   "execution_count": 5,
   "metadata": {},
   "outputs": [
    {
     "data": {
      "text/html": [
       "<pre style=\"word-wrap: normal;white-space: pre;background: #fff0;line-height: 1.1;font-family: &quot;Courier New&quot;,Courier,monospace\">global phase: π\n",
       "                                                    \n",
       "q_0: ───────────────────────────────────────────────\n",
       "        ┌───┐                                       \n",
       "q_1: ───┤ X ├───────────────────────────────────────\n",
       "        └───┘                                       \n",
       "q_2: ───────────────────────────────────────────────\n",
       "                                                    \n",
       "q_3: ───────────────────────────────────────────────\n",
       "     ┌─────────┐┌────┐┌──────────┐┌────┐┌──────────┐\n",
       "q_4: ┤ Rz(π/2) ├┤ √X ├┤ Rz(6π/5) ├┤ √X ├┤ Rz(5π/2) ├\n",
       "     └┬────────┤├────┤├──────────┤├────┤└──────────┘\n",
       "q_5: ─┤ Rz(-π) ├┤ √X ├┤ Rz(6π/7) ├┤ √X ├────────────\n",
       "      ├────────┤├────┤└──────────┘└────┘            \n",
       "q_6: ─┤ Rz(-π) ├┤ √X ├──────────────────────────────\n",
       "      └────────┘└────┘                              </pre>"
      ],
      "text/plain": [
       "global phase: π\n",
       "                                                    \n",
       "q_0: ───────────────────────────────────────────────\n",
       "        ┌───┐                                       \n",
       "q_1: ───┤ X ├───────────────────────────────────────\n",
       "        └───┘                                       \n",
       "q_2: ───────────────────────────────────────────────\n",
       "                                                    \n",
       "q_3: ───────────────────────────────────────────────\n",
       "     ┌─────────┐┌────┐┌──────────┐┌────┐┌──────────┐\n",
       "q_4: ┤ Rz(π/2) ├┤ √X ├┤ Rz(6π/5) ├┤ √X ├┤ Rz(5π/2) ├\n",
       "     └┬────────┤├────┤├──────────┤├────┤└──────────┘\n",
       "q_5: ─┤ Rz(-π) ├┤ √X ├┤ Rz(6π/7) ├┤ √X ├────────────\n",
       "      ├────────┤├────┤└──────────┘└────┘            \n",
       "q_6: ─┤ Rz(-π) ├┤ √X ├──────────────────────────────\n",
       "      └────────┘└────┘                              "
      ]
     },
     "execution_count": 5,
     "metadata": {},
     "output_type": "execute_result"
    }
   ],
   "source": [
    "from qiskit.quantum_info import Operator\n",
    "from qiskit.compiler import transpile\n",
    "\n",
    "qc = QuantumCircuit(7)\n",
    "qc.id(0)\n",
    "qc.x(1)\n",
    "# qc.y(2)\n",
    "# qc.z(3)\n",
    "qc.rx(np.pi/5,4)\n",
    "qc.ry(np.pi*8/7,5)\n",
    "qc.rz(-np.pi,6)\n",
    "qc.sx(6)\n",
    "# qc.z(6)\n",
    "\n",
    "result = transpile(qc, basis_gates=['id', 'x', 'rz', 'sx'])\n",
    "result.draw()"
   ]
  },
  {
   "cell_type": "code",
   "execution_count": null,
   "metadata": {},
   "outputs": [],
   "source": [
    "import pdb\n",
    "basis_noise_circs =  []\n",
    "for i in range(3):\n",
    "    qc = QuantumCircuit(2)\n",
    "    qc.cx(0,1)\n",
    "    qc.x(1)\n",
    "    qc.y(0)\n",
    "    qc.draw()\n",
    "    \n",
    "    basis_noise_circs.append(qc)\n",
    "    \n",
    "two_graphs = [[0,1],[1,0],[5,6]]\n",
    "basis_noise_circs_27 = []\n",
    "\n",
    "for j in range(len(basis_noise_circs)):\n",
    "    qc_27 = QuantumCircuit(27)\n",
    "    qc_27.append(basis_noise_circs[j], [two_graphs[i][0],two_graphs[i][1]])\n",
    "    basis_noise_circs_27.append(qc_27)\n",
    "\n",
    "qc_27.draw()\n",
    "\n",
    "\n"
   ]
  },
  {
   "cell_type": "code",
   "execution_count": null,
   "metadata": {},
   "outputs": [],
   "source": [
    "basis_noise_circs_27[0].draw()\n"
   ]
  },
  {
   "cell_type": "code",
   "execution_count": 16,
   "metadata": {},
   "outputs": [
    {
     "data": {
      "text/html": [
       "<pre style=\"word-wrap: normal;white-space: pre;background: #fff0;line-height: 1.1;font-family: &quot;Courier New&quot;,Courier,monospace\">                           \n",
       " q_0: ─────────────────────\n",
       "                           \n",
       " q_1: ─────────────────────\n",
       "                           \n",
       " q_2: ─────────────────────\n",
       "                           \n",
       " q_3: ─────────────────────\n",
       "                           \n",
       " q_4: ─────────────────────\n",
       "           ┌────┐┌───┐┌───┐\n",
       " q_5: ──■──┤ √X ├┤ X ├┤ X ├\n",
       "      ┌─┴─┐├───┬┘└───┘└───┘\n",
       " q_6: ┤ X ├┤ X ├───────────\n",
       "      └───┘└───┘           \n",
       " q_7: ─────────────────────\n",
       "                           \n",
       " q_8: ─────────────────────\n",
       "                           \n",
       " q_9: ─────────────────────\n",
       "                           \n",
       "q_10: ─────────────────────\n",
       "                           \n",
       "q_11: ─────────────────────\n",
       "                           \n",
       "q_12: ─────────────────────\n",
       "                           \n",
       "q_13: ─────────────────────\n",
       "                           \n",
       "q_14: ─────────────────────\n",
       "                           \n",
       "q_15: ─────────────────────\n",
       "                           \n",
       "q_16: ─────────────────────\n",
       "                           \n",
       "q_17: ─────────────────────\n",
       "                           \n",
       "q_18: ─────────────────────\n",
       "                           \n",
       "q_19: ─────────────────────\n",
       "                           \n",
       "q_20: ─────────────────────\n",
       "                           \n",
       "q_21: ─────────────────────\n",
       "                           \n",
       "q_22: ─────────────────────\n",
       "                           \n",
       "q_23: ─────────────────────\n",
       "                           \n",
       "q_24: ─────────────────────\n",
       "                           \n",
       "q_25: ─────────────────────\n",
       "                           \n",
       "q_26: ─────────────────────\n",
       "                           </pre>"
      ],
      "text/plain": [
       "                           \n",
       " q_0: ─────────────────────\n",
       "                           \n",
       " q_1: ─────────────────────\n",
       "                           \n",
       " q_2: ─────────────────────\n",
       "                           \n",
       " q_3: ─────────────────────\n",
       "                           \n",
       " q_4: ─────────────────────\n",
       "           ┌────┐┌───┐┌───┐\n",
       " q_5: ──■──┤ √X ├┤ X ├┤ X ├\n",
       "      ┌─┴─┐├───┬┘└───┘└───┘\n",
       " q_6: ┤ X ├┤ X ├───────────\n",
       "      └───┘└───┘           \n",
       " q_7: ─────────────────────\n",
       "                           \n",
       " q_8: ─────────────────────\n",
       "                           \n",
       " q_9: ─────────────────────\n",
       "                           \n",
       "q_10: ─────────────────────\n",
       "                           \n",
       "q_11: ─────────────────────\n",
       "                           \n",
       "q_12: ─────────────────────\n",
       "                           \n",
       "q_13: ─────────────────────\n",
       "                           \n",
       "q_14: ─────────────────────\n",
       "                           \n",
       "q_15: ─────────────────────\n",
       "                           \n",
       "q_16: ─────────────────────\n",
       "                           \n",
       "q_17: ─────────────────────\n",
       "                           \n",
       "q_18: ─────────────────────\n",
       "                           \n",
       "q_19: ─────────────────────\n",
       "                           \n",
       "q_20: ─────────────────────\n",
       "                           \n",
       "q_21: ─────────────────────\n",
       "                           \n",
       "q_22: ─────────────────────\n",
       "                           \n",
       "q_23: ─────────────────────\n",
       "                           \n",
       "q_24: ─────────────────────\n",
       "                           \n",
       "q_25: ─────────────────────\n",
       "                           \n",
       "q_26: ─────────────────────\n",
       "                           "
      ]
     },
     "execution_count": 16,
     "metadata": {},
     "output_type": "execute_result"
    }
   ],
   "source": [
    "qc = QuantumCircuit(2)\n",
    "qc.cx(0,1)\n",
    "qc.x(1)\n",
    "qc.sx(0)\n",
    "qc.x(0)\n",
    "qc.x(0)\n",
    "\n",
    "\n",
    "qc.draw()\n",
    "\n",
    "t = []\n",
    "t.append(qc)\n",
    "a = QuantumCircuit(27)\n",
    "a.append(t[0],[5,6])\n",
    "a.draw()\n",
    "b = []\n",
    "b.append(a)\n",
    "b[0].draw()\n",
    "b.append(a.decompose())\n",
    "b[1].draw()\n",
    "\n",
    "# t[0].draw()"
   ]
  },
  {
   "cell_type": "code",
   "execution_count": 13,
   "metadata": {},
   "outputs": [
    {
     "name": "stdout",
     "output_type": "stream",
     "text": [
      "q_5: ───@───cirq.circuits.qasm_output.QasmUGate(theta=1.0, phi=0.5, lmda=0.5)───\n",
      "        │\n",
      "q_6: ───X───cirq.circuits.qasm_output.QasmUGate(theta=1.0, phi=0.0, lmda=1.0)───\n"
     ]
    }
   ],
   "source": [
    "z,_ = convert_to_mitiq(b[1])\n",
    "print(z)"
   ]
  },
  {
   "cell_type": "code",
   "execution_count": 26,
   "metadata": {},
   "outputs": [
    {
     "data": {
      "text/html": [
       "<pre style=\"word-wrap: normal;white-space: pre;background: #fff0;line-height: 1.1;font-family: &quot;Courier New&quot;,Courier,monospace\">          ┌────┐\n",
       "q_0: ──■──┤ √X ├\n",
       "     ┌─┴─┐├────┤\n",
       "q_1: ┤ X ├┤ √X ├\n",
       "     └───┘└────┘</pre>"
      ],
      "text/plain": [
       "          ┌────┐\n",
       "q_0: ──■──┤ √X ├\n",
       "     ┌─┴─┐├────┤\n",
       "q_1: ┤ X ├┤ √X ├\n",
       "     └───┘└────┘"
      ]
     },
     "execution_count": 26,
     "metadata": {},
     "output_type": "execute_result"
    }
   ],
   "source": [
    "basis_noise_circ_cx_1sx_0sx = QuantumCircuit(2)\n",
    "basis_noise_circ_cx_1sx_0sx.cx(0, 1)\n",
    "basis_noise_circ_cx_1sx_0sx.sx(0)\n",
    "basis_noise_circ_cx_1sx_0sx.sx(1)\n",
    "basis_noise_circ_cx_1sx_0sx.draw()\n"
   ]
  },
  {
   "cell_type": "code",
   "execution_count": 29,
   "metadata": {},
   "outputs": [
    {
     "name": "stdout",
     "output_type": "stream",
     "text": [
      "[[1.+0.j 0.+0.j 0.+0.j 0.+0.j 0.+0.j 0.+0.j 0.+0.j 0.+0.j 0.+0.j 0.+0.j\n",
      "  0.+0.j 0.+0.j 0.+0.j 0.+0.j 0.+0.j 0.+0.j]\n",
      " [0.+0.j 0.+0.j 0.+0.j 1.+0.j 0.+0.j 0.+0.j 0.+0.j 0.+0.j 0.+0.j 0.+0.j\n",
      "  0.+0.j 0.+0.j 0.+0.j 0.+0.j 0.+0.j 0.+0.j]\n",
      " [0.+0.j 0.+0.j 1.+0.j 0.+0.j 0.+0.j 0.+0.j 0.+0.j 0.+0.j 0.+0.j 0.+0.j\n",
      "  0.+0.j 0.+0.j 0.+0.j 0.+0.j 0.+0.j 0.+0.j]\n",
      " [0.+0.j 1.+0.j 0.+0.j 0.+0.j 0.+0.j 0.+0.j 0.+0.j 0.+0.j 0.+0.j 0.+0.j\n",
      "  0.+0.j 0.+0.j 0.+0.j 0.+0.j 0.+0.j 0.+0.j]\n",
      " [0.+0.j 0.+0.j 0.+0.j 0.+0.j 0.+0.j 0.+0.j 0.+0.j 0.+0.j 0.+0.j 0.+0.j\n",
      "  0.+0.j 0.+0.j 1.+0.j 0.+0.j 0.+0.j 0.+0.j]\n",
      " [0.+0.j 0.+0.j 0.+0.j 0.+0.j 0.+0.j 0.+0.j 0.+0.j 0.+0.j 0.+0.j 0.+0.j\n",
      "  0.+0.j 0.+0.j 0.+0.j 0.+0.j 0.+0.j 1.+0.j]\n",
      " [0.+0.j 0.+0.j 0.+0.j 0.+0.j 0.+0.j 0.+0.j 0.+0.j 0.+0.j 0.+0.j 0.+0.j\n",
      "  0.+0.j 0.+0.j 0.+0.j 0.+0.j 1.+0.j 0.+0.j]\n",
      " [0.+0.j 0.+0.j 0.+0.j 0.+0.j 0.+0.j 0.+0.j 0.+0.j 0.+0.j 0.+0.j 0.+0.j\n",
      "  0.+0.j 0.+0.j 0.+0.j 1.+0.j 0.+0.j 0.+0.j]\n",
      " [0.+0.j 0.+0.j 0.+0.j 0.+0.j 0.+0.j 0.+0.j 0.+0.j 0.+0.j 1.+0.j 0.+0.j\n",
      "  0.+0.j 0.+0.j 0.+0.j 0.+0.j 0.+0.j 0.+0.j]\n",
      " [0.+0.j 0.+0.j 0.+0.j 0.+0.j 0.+0.j 0.+0.j 0.+0.j 0.+0.j 0.+0.j 0.+0.j\n",
      "  0.+0.j 1.+0.j 0.+0.j 0.+0.j 0.+0.j 0.+0.j]\n",
      " [0.+0.j 0.+0.j 0.+0.j 0.+0.j 0.+0.j 0.+0.j 0.+0.j 0.+0.j 0.+0.j 0.+0.j\n",
      "  1.+0.j 0.+0.j 0.+0.j 0.+0.j 0.+0.j 0.+0.j]\n",
      " [0.+0.j 0.+0.j 0.+0.j 0.+0.j 0.+0.j 0.+0.j 0.+0.j 0.+0.j 0.+0.j 1.+0.j\n",
      "  0.+0.j 0.+0.j 0.+0.j 0.+0.j 0.+0.j 0.+0.j]\n",
      " [0.+0.j 0.+0.j 0.+0.j 0.+0.j 1.+0.j 0.+0.j 0.+0.j 0.+0.j 0.+0.j 0.+0.j\n",
      "  0.+0.j 0.+0.j 0.+0.j 0.+0.j 0.+0.j 0.+0.j]\n",
      " [0.+0.j 0.+0.j 0.+0.j 0.+0.j 0.+0.j 0.+0.j 0.+0.j 1.+0.j 0.+0.j 0.+0.j\n",
      "  0.+0.j 0.+0.j 0.+0.j 0.+0.j 0.+0.j 0.+0.j]\n",
      " [0.+0.j 0.+0.j 0.+0.j 0.+0.j 0.+0.j 0.+0.j 1.+0.j 0.+0.j 0.+0.j 0.+0.j\n",
      "  0.+0.j 0.+0.j 0.+0.j 0.+0.j 0.+0.j 0.+0.j]\n",
      " [0.+0.j 0.+0.j 0.+0.j 0.+0.j 0.+0.j 1.+0.j 0.+0.j 0.+0.j 0.+0.j 0.+0.j\n",
      "  0.+0.j 0.+0.j 0.+0.j 0.+0.j 0.+0.j 0.+0.j]]\n",
      "(16, 16)\n"
     ]
    }
   ],
   "source": [
    "\n",
    "qc = QuantumCircuit(2)\n",
    "qc.cx(0,1)\n",
    "a = kraus_to_super([CXGate().to_matrix()])\n",
    "print(a)\n",
    "print(a.shape)"
   ]
  },
  {
   "cell_type": "code",
   "execution_count": null,
   "metadata": {},
   "outputs": [],
   "source": [
    "from mitiq.pec.representations.learning import (\n",
    "    learn_depolarizing_noise_parameter,\n",
    ")\n"
   ]
  },
  {
   "cell_type": "code",
   "execution_count": 14,
   "metadata": {},
   "outputs": [
    {
     "name": "stdout",
     "output_type": "stream",
     "text": [
      "[[-7.33157657e-09+0.j  0.00000000e+00+0.j  0.00000000e+00+0.j\n",
      "   4.60981686e-04+0.j]\n",
      " [ 0.00000000e+00+0.j -9.56067797e-04+0.j  0.00000000e+00+0.j\n",
      "   0.00000000e+00+0.j]\n",
      " [ 0.00000000e+00+0.j  0.00000000e+00+0.j -9.56067797e-04+0.j\n",
      "   0.00000000e+00+0.j]\n",
      " [ 0.00000000e+00+0.j  0.00000000e+00+0.j  0.00000000e+00+0.j\n",
      "  -4.60982934e-04+0.j]]\n"
     ]
    }
   ],
   "source": [
    "a = np.array([[[-0.99993277+0.j,  0.        +0.j],[ 0.        +0.j, -0.99838319+0.j]],[[-0.01159577+0.j,  0.        +0.j],[ 0.        +0.j,  0.01161377+0.j]],[[0.        +0.j, 0.05564284+0.j],[0.        +0.j, 0.        +0.j]]])\n",
    "b = np.array([[[-0.99975178+0.j,  0.        +0.j],[ 0.        +0.j, -0.99797031+0.j]],[[-0.02227953+0.j,  0.        +0.j],[ 0.        +0.j,  0.0223193 +0.j]],[[0.        +0.j, 0.05964149+0.j],[0.        +0.j, 0.        +0.j]]])\n",
    "\n",
    "a1 = kraus_to_super(a)\n",
    "b1 = kraus_to_super(b)\n",
    "d = b1-a1\n",
    "print(d)"
   ]
  },
  {
   "cell_type": "code",
   "execution_count": 1,
   "metadata": {},
   "outputs": [
    {
     "data": {
      "text/plain": [
       "2"
      ]
     },
     "execution_count": 1,
     "metadata": {},
     "output_type": "execute_result"
    }
   ],
   "source": [
    "a = (0,1)\n",
    "len(a)"
   ]
  },
  {
   "cell_type": "code",
   "execution_count": null,
   "metadata": {},
   "outputs": [],
   "source": []
  }
 ],
 "metadata": {
  "kernelspec": {
   "display_name": "quantum",
   "language": "python",
   "name": "python3"
  },
  "language_info": {
   "codemirror_mode": {
    "name": "ipython",
    "version": 3
   },
   "file_extension": ".py",
   "mimetype": "text/x-python",
   "name": "python",
   "nbconvert_exporter": "python",
   "pygments_lexer": "ipython3",
   "version": "3.11.5"
  },
  "orig_nbformat": 4
 },
 "nbformat": 4,
 "nbformat_minor": 2
}
