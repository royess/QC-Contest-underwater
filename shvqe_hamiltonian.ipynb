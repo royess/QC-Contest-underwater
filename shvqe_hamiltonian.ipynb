{
 "cells": [
  {
   "cell_type": "markdown",
   "metadata": {},
   "source": [
    "# Hamiltonian for SHVQE\n",
    "\n",
    "Apply inversed Heisenberg circuits, which are Clifford."
   ]
  },
  {
   "cell_type": "code",
   "execution_count": 153,
   "metadata": {},
   "outputs": [],
   "source": [
    "path = 'Hamiltonian/OHhamiltonian.txt'\n",
    "\n",
    "with open(path, 'r') as file:\n",
    "    pauli_text_lines = file.readlines()\n",
    "paulis = []\n",
    "weight = []\n",
    "for line in pauli_text_lines:\n",
    "    line = line.replace(' ', '')\n",
    "    coeff, pauli_text_string = line.split(\"*\")\n",
    "    coeff = float(coeff)\n",
    "    weight.append(coeff)\n",
    "    pauli_text_string = pauli_text_string.replace('\\n', '')\n",
    "    paulis.append(pauli_text_string)"
   ]
  },
  {
   "cell_type": "code",
   "execution_count": 154,
   "metadata": {},
   "outputs": [
    {
     "data": {
      "text/plain": [
       "(631, 631)"
      ]
     },
     "execution_count": 154,
     "metadata": {},
     "output_type": "execute_result"
    }
   ],
   "source": [
    "len(weight), len(paulis)"
   ]
  },
  {
   "cell_type": "code",
   "execution_count": 156,
   "metadata": {},
   "outputs": [],
   "source": [
    "import stim\n",
    "import re"
   ]
  },
  {
   "cell_type": "code",
   "execution_count": 162,
   "metadata": {},
   "outputs": [],
   "source": [
    "qasm_text = \"\"\"\n",
    "cz q[0],q[1];\n",
    "cz q[1],q[2];\n",
    "cz q[2],q[3];\n",
    "cz q[3],q[4];\n",
    "cz q[4],q[5];\n",
    "cz q[5],q[6];\n",
    "cz q[6],q[7];\n",
    "cz q[7],q[8];\n",
    "cz q[8],q[9];\n",
    "cz q[9],q[10];\n",
    "cz q[10],q[11];\n",
    "cz q[11],q[0];\n",
    "cz q[0],q[2];\n",
    "cz q[1],q[3];\n",
    "cz q[2],q[4];\n",
    "cz q[3],q[5];\n",
    "cz q[4],q[6];\n",
    "cz q[5],q[7];\n",
    "cz q[6],q[8];\n",
    "cz q[7],q[9];\n",
    "cz q[8],q[10];\n",
    "cz q[9],q[11];\n",
    "cz q[10],q[0];\n",
    "cz q[11],q[1];\n",
    "cz q[0],q[3];\n",
    "cz q[1],q[4];\n",
    "cz q[2],q[5];\n",
    "cz q[3],q[6];\n",
    "cz q[4],q[7];\n",
    "cz q[5],q[8];\n",
    "cz q[6],q[9];\n",
    "cz q[7],q[10];\n",
    "cz q[8],q[11];\n",
    "cz q[9],q[0];\n",
    "cz q[10],q[1];\n",
    "cz q[11],q[2];\n",
    "\"\"\"\n",
    "\n",
    "import re\n",
    "\n",
    "# string = \"q[1],q[2]\"\n",
    "\n",
    "# Define the regular expression pattern\n",
    "pattern = r\"q\\[(\\d+)\\],q\\[(\\d+)\\]\"\n",
    "\n",
    "# Define the replacement string\n",
    "replacement = r\"\\1 \\2\"\n",
    "\n",
    "# Use the sub() function to replace the matches\n",
    "stim_text = re.sub(pattern, replacement, qasm_text).replace(';', '')\n"
   ]
  },
  {
   "cell_type": "code",
   "execution_count": 163,
   "metadata": {},
   "outputs": [
    {
     "data": {
      "text/plain": [
       "'\\ncz 0 1\\ncz 1 2\\ncz 2 3\\ncz 3 4\\ncz 4 5\\ncz 5 6\\ncz 6 7\\ncz 7 8\\ncz 8 9\\ncz 9 10\\ncz 10 11\\ncz 11 0\\ncz 0 2\\ncz 1 3\\ncz 2 4\\ncz 3 5\\ncz 4 6\\ncz 5 7\\ncz 6 8\\ncz 7 9\\ncz 8 10\\ncz 9 11\\ncz 10 0\\ncz 11 1\\ncz 0 3\\ncz 1 4\\ncz 2 5\\ncz 3 6\\ncz 4 7\\ncz 5 8\\ncz 6 9\\ncz 7 10\\ncz 8 11\\ncz 9 0\\ncz 10 1\\ncz 11 2\\n'"
      ]
     },
     "execution_count": 163,
     "metadata": {},
     "output_type": "execute_result"
    }
   ],
   "source": [
    "stim_text"
   ]
  },
  {
   "cell_type": "code",
   "execution_count": 164,
   "metadata": {},
   "outputs": [],
   "source": [
    "circ = stim.Circuit(stim_text) "
   ]
  },
  {
   "cell_type": "code",
   "execution_count": 172,
   "metadata": {},
   "outputs": [],
   "source": [
    "paulis_new = []\n",
    "\n",
    "for p in paulis:\n",
    "    ps  = stim.PauliString(p.replace('I', '_'))\n",
    "    ps.after(circ)\n",
    "    paulis_new.append(ps.__str__().replace('_', 'I'))"
   ]
  },
  {
   "cell_type": "code",
   "execution_count": 174,
   "metadata": {},
   "outputs": [
    {
     "data": {
      "text/plain": [
       "631"
      ]
     },
     "execution_count": 174,
     "metadata": {},
     "output_type": "execute_result"
    }
   ],
   "source": [
    "len(paulis_new)"
   ]
  }
 ],
 "metadata": {
  "kernelspec": {
   "display_name": "cad",
   "language": "python",
   "name": "python3"
  },
  "language_info": {
   "codemirror_mode": {
    "name": "ipython",
    "version": 3
   },
   "file_extension": ".py",
   "mimetype": "text/x-python",
   "name": "python",
   "nbconvert_exporter": "python",
   "pygments_lexer": "ipython3",
   "version": "3.9.18"
  }
 },
 "nbformat": 4,
 "nbformat_minor": 2
}
