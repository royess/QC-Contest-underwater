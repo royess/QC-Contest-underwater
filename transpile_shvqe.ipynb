{
 "cells": [
  {
   "cell_type": "markdown",
   "metadata": {
    "id": "gj3jZbCBSn71"
   },
   "source": [
    "# Example Code for Implement the Noise Model"
   ]
  },
  {
   "cell_type": "markdown",
   "metadata": {
    "id": "V30Z6_4G_Sto"
   },
   "source": [
    "# Implement Noise Model"
   ]
  },
  {
   "cell_type": "code",
   "execution_count": 1,
   "metadata": {
    "id": "6yqcs2Aejtv7"
   },
   "outputs": [],
   "source": [
    "import numpy as np\n",
    "from qiskit import QuantumCircuit, transpile\n",
    "from qiskit.quantum_info import Kraus, SuperOp\n",
    "from qiskit_aer import AerSimulator\n",
    "from qiskit.tools.visualization import plot_histogram\n",
    "from qiskit_aer.noise import (NoiseModel, QuantumError, ReadoutError,\n",
    "    pauli_error, depolarizing_error, thermal_relaxation_error)\n",
    "import numpy as np\n",
    "from qiskit.tools.jupyter import *\n",
    "import warnings\n",
    "warnings.filterwarnings('ignore')\n",
    "from qiskit import *\n",
    "import time\n",
    "from qiskit.providers.aer.noise import NoiseModel\n",
    "import qiskit.providers.aer.noise as noise\n",
    "from qiskit.utils import QuantumInstance, algorithm_globals"
   ]
  },
  {
   "cell_type": "code",
   "execution_count": 2,
   "metadata": {
    "id": "BBENV0zBoJZG"
   },
   "outputs": [],
   "source": [
    "from qiskit.providers.fake_provider import *"
   ]
  },
  {
   "cell_type": "code",
   "execution_count": 3,
   "metadata": {
    "id": "2CHRkoGUxv9D"
   },
   "outputs": [],
   "source": [
    "import pickle"
   ]
  },
  {
   "cell_type": "markdown",
   "metadata": {
    "id": "vPEQx7yh_dDE"
   },
   "source": [
    "Circuit Transpile and Execution"
   ]
  },
  {
   "cell_type": "code",
   "execution_count": 7,
   "metadata": {
    "colab": {
     "base_uri": "https://localhost:8080/",
     "height": 171
    },
    "id": "lJ8S2H4F2uUl",
    "outputId": "efd7a7dd-cc85-4fc8-9fdc-9680c15ba8a7"
   },
   "outputs": [],
   "source": [
    "from qiskit.circuit.random import random_circuit\n",
    "from qiskit_aer.primitives import Estimator\n",
    "\n",
    "circuit_ncz3 = QuantumCircuit.from_qasm_file('saved_models/shvqe_onlysh_ncz3.qasm')\n",
    "circuit_ncz3.draw();"
   ]
  },
  {
   "cell_type": "markdown",
   "metadata": {
    "id": "ailYlmao_jBV"
   },
   "source": [
    "Transpile the circuit based on given system model from IBMQ_Montreal."
   ]
  },
  {
   "cell_type": "code",
   "execution_count": 8,
   "metadata": {
    "id": "SI275sum_rFg"
   },
   "outputs": [],
   "source": [
    "system_model = FakeMontreal()"
   ]
  },
  {
   "cell_type": "code",
   "execution_count": 9,
   "metadata": {
    "id": "65IYl_7U_zOh"
   },
   "outputs": [],
   "source": [
    "transpiled_circuit_ncz3 = transpile(circuit_ncz3, backend=system_model)"
   ]
  },
  {
   "cell_type": "code",
   "execution_count": 12,
   "metadata": {},
   "outputs": [],
   "source": [
    "transpiled_circuit_ncz3.draw();"
   ]
  },
  {
   "cell_type": "markdown",
   "metadata": {
    "id": "hw8SxNyclYyT"
   },
   "source": [
    "Obtain the Duration of Quantum Circuit"
   ]
  },
  {
   "cell_type": "code",
   "execution_count": 13,
   "metadata": {
    "id": "F-djGu7_BGiY"
   },
   "outputs": [],
   "source": [
    "from qiskit import pulse"
   ]
  },
  {
   "cell_type": "markdown",
   "metadata": {
    "id": "rvKZMDXUBLfA"
   },
   "source": [
    "Do remember to set the optimization_level to 0 if your circuit is already transpiled!!!"
   ]
  },
  {
   "cell_type": "code",
   "execution_count": 16,
   "metadata": {
    "id": "_julUiabi5iI"
   },
   "outputs": [],
   "source": [
    "with pulse.build(system_model) as program_ncz3:\n",
    "  with pulse.transpiler_settings(optimization_level=0):\n",
    "    pulse.call(transpiled_circuit_ncz3)"
   ]
  },
  {
   "cell_type": "code",
   "execution_count": 18,
   "metadata": {
    "colab": {
     "base_uri": "https://localhost:8080/"
    },
    "id": "E3jGzVpNkT00",
    "outputId": "4cf0d4da-f938-49c0-a382-7d5253ba6152"
   },
   "outputs": [
    {
     "data": {
      "text/plain": [
       "7872"
      ]
     },
     "execution_count": 18,
     "metadata": {},
     "output_type": "execute_result"
    }
   ],
   "source": [
    "program_ncz3.duration"
   ]
  },
  {
   "cell_type": "code",
   "execution_count": null,
   "metadata": {},
   "outputs": [],
   "source": [
    "circuit_ncz8 = QuantumCircuit.from_qasm_file('saved_models/shvqe_onlysh_ncz8.qasm')\n",
    "transpiled_circuit_ncz8 = transpile(circuit_ncz8, backend=system_model)\n",
    "with pulse.build(system_model) as program_ncz8:\n",
    "  with pulse.transpiler_settings(optimization_level=0):\n",
    "    pulse.call(transpiled_circuit_ncz8)"
   ]
  },
  {
   "cell_type": "markdown",
   "metadata": {
    "id": "wWbOzBXbBT_Y"
   },
   "source": [
    "# Save the Circuit in QASM Format"
   ]
  },
  {
   "cell_type": "code",
   "execution_count": 34,
   "metadata": {
    "colab": {
     "base_uri": "https://localhost:8080/",
     "height": 55
    },
    "id": "0_4SdcY1BYMe",
    "outputId": "c1f652a2-7da4-4f2a-e616-a6ec1d5b2990"
   },
   "outputs": [
    {
     "data": {
      "text/plain": [
       "'OPENQASM 2.0;\\ninclude \"qelib1.inc\";\\nqreg q[27];\\nrz(-pi/2) q[13];\\ncx q[12],q[13];\\nsx q[12];\\nrz(0.6700123395200417) q[12];\\nsx q[12];\\nrz(-pi) q[12];\\nrz(3*pi/4) q[13];\\ncx q[11],q[14];\\ncx q[14],q[11];\\ncx q[11],q[14];\\ncx q[13],q[14];\\nrz(-pi/4) q[14];\\ncx q[13],q[14];\\nrz(pi/4) q[14];\\n'"
      ]
     },
     "execution_count": 34,
     "metadata": {},
     "output_type": "execute_result"
    }
   ],
   "source": [
    "transpiled_circuit.qasm()"
   ]
  },
  {
   "cell_type": "code",
   "execution_count": null,
   "metadata": {},
   "outputs": [],
   "source": []
  }
 ],
 "metadata": {
  "colab": {
   "provenance": []
  },
  "kernelspec": {
   "display_name": "Python 3 (ipykernel)",
   "language": "python",
   "name": "python3"
  },
  "language_info": {
   "codemirror_mode": {
    "name": "ipython",
    "version": 3
   },
   "file_extension": ".py",
   "mimetype": "text/x-python",
   "name": "python",
   "nbconvert_exporter": "python",
   "pygments_lexer": "ipython3",
   "version": "3.9.18"
  }
 },
 "nbformat": 4,
 "nbformat_minor": 4
}
